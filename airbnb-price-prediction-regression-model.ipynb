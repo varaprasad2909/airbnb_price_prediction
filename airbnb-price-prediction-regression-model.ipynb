{
 "cells": [
  {
   "cell_type": "code",
   "execution_count": 1,
   "id": "eb074f57",
   "metadata": {
    "_cell_guid": "b1076dfc-b9ad-4769-8c92-a6c4dae69d19",
    "_uuid": "8f2839f25d086af736a60e9eeb907d3b93b6e0e5",
    "execution": {
     "iopub.execute_input": "2021-07-12T14:46:54.072785Z",
     "iopub.status.busy": "2021-07-12T14:46:54.071905Z",
     "iopub.status.idle": "2021-07-12T14:46:54.084693Z",
     "shell.execute_reply": "2021-07-12T14:46:54.085181Z"
    },
    "papermill": {
     "duration": 0.054058,
     "end_time": "2021-07-12T14:46:54.085430",
     "exception": false,
     "start_time": "2021-07-12T14:46:54.031372",
     "status": "completed"
    },
    "tags": []
   },
   "outputs": [
    {
     "name": "stdout",
     "output_type": "stream",
     "text": [
      "/kaggle/input/us-airbnb-open-data/AB_US_2020.csv\n"
     ]
    }
   ],
   "source": [
    "# This Python 3 environment comes with many helpful analytics libraries installed\n",
    "# It is defined by the kaggle/python Docker image: https://github.com/kaggle/docker-python\n",
    "# For example, here's several helpful packages to load\n",
    "\n",
    "import numpy as np # linear algebra\n",
    "import pandas as pd # data processing, CSV file I/O (e.g. pd.read_csv)\n",
    "\n",
    "# Input data files are available in the read-only \"../input/\" directory\n",
    "# For example, running this (by clicking run or pressing Shift+Enter) will list all files under the input directory\n",
    "\n",
    "import os\n",
    "for dirname, _, filenames in os.walk('/kaggle/input'):\n",
    "    for filename in filenames:\n",
    "        print(os.path.join(dirname, filename))\n",
    "\n",
    "# You can write up to 20GB to the current directory (/kaggle/working/) that gets preserved as output when you create a version using \"Save & Run All\" \n",
    "# You can also write temporary files to /kaggle/temp/, but they won't be saved outside of the current session"
   ]
  },
  {
   "cell_type": "markdown",
   "id": "f94c3a50",
   "metadata": {
    "papermill": {
     "duration": 0.02909,
     "end_time": "2021-07-12T14:46:54.144342",
     "exception": false,
     "start_time": "2021-07-12T14:46:54.115252",
     "status": "completed"
    },
    "tags": []
   },
   "source": [
    "# improting required libraries for exploratory data analysis"
   ]
  },
  {
   "cell_type": "code",
   "execution_count": 2,
   "id": "bc7ba7a3",
   "metadata": {
    "execution": {
     "iopub.execute_input": "2021-07-12T14:46:54.208112Z",
     "iopub.status.busy": "2021-07-12T14:46:54.207514Z",
     "iopub.status.idle": "2021-07-12T14:46:55.218153Z",
     "shell.execute_reply": "2021-07-12T14:46:55.218663Z"
    },
    "papermill": {
     "duration": 1.044404,
     "end_time": "2021-07-12T14:46:55.218827",
     "exception": false,
     "start_time": "2021-07-12T14:46:54.174423",
     "status": "completed"
    },
    "tags": []
   },
   "outputs": [],
   "source": [
    "import matplotlib.pyplot as plt\n",
    "import seaborn as sns\n",
    "import warnings\n",
    "warnings.filterwarnings(\"ignore\")"
   ]
  },
  {
   "cell_type": "code",
   "execution_count": 3,
   "id": "a5fae20a",
   "metadata": {
    "execution": {
     "iopub.execute_input": "2021-07-12T14:46:55.283424Z",
     "iopub.status.busy": "2021-07-12T14:46:55.282852Z",
     "iopub.status.idle": "2021-07-12T14:46:56.716779Z",
     "shell.execute_reply": "2021-07-12T14:46:56.717345Z"
    },
    "papermill": {
     "duration": 1.46752,
     "end_time": "2021-07-12T14:46:56.717516",
     "exception": false,
     "start_time": "2021-07-12T14:46:55.249996",
     "status": "completed"
    },
    "tags": []
   },
   "outputs": [
    {
     "data": {
      "text/html": [
       "<div>\n",
       "<style scoped>\n",
       "    .dataframe tbody tr th:only-of-type {\n",
       "        vertical-align: middle;\n",
       "    }\n",
       "\n",
       "    .dataframe tbody tr th {\n",
       "        vertical-align: top;\n",
       "    }\n",
       "\n",
       "    .dataframe thead th {\n",
       "        text-align: right;\n",
       "    }\n",
       "</style>\n",
       "<table border=\"1\" class=\"dataframe\">\n",
       "  <thead>\n",
       "    <tr style=\"text-align: right;\">\n",
       "      <th></th>\n",
       "      <th>id</th>\n",
       "      <th>name</th>\n",
       "      <th>host_id</th>\n",
       "      <th>host_name</th>\n",
       "      <th>neighbourhood_group</th>\n",
       "      <th>neighbourhood</th>\n",
       "      <th>latitude</th>\n",
       "      <th>longitude</th>\n",
       "      <th>room_type</th>\n",
       "      <th>price</th>\n",
       "      <th>minimum_nights</th>\n",
       "      <th>number_of_reviews</th>\n",
       "      <th>last_review</th>\n",
       "      <th>reviews_per_month</th>\n",
       "      <th>calculated_host_listings_count</th>\n",
       "      <th>availability_365</th>\n",
       "      <th>city</th>\n",
       "    </tr>\n",
       "  </thead>\n",
       "  <tbody>\n",
       "    <tr>\n",
       "      <th>0</th>\n",
       "      <td>38585</td>\n",
       "      <td>Charming Victorian home - twin beds + breakfast</td>\n",
       "      <td>165529</td>\n",
       "      <td>Evelyne</td>\n",
       "      <td>NaN</td>\n",
       "      <td>28804</td>\n",
       "      <td>35.65146</td>\n",
       "      <td>-82.62792</td>\n",
       "      <td>Private room</td>\n",
       "      <td>60</td>\n",
       "      <td>1</td>\n",
       "      <td>138</td>\n",
       "      <td>16/02/20</td>\n",
       "      <td>1.14</td>\n",
       "      <td>1</td>\n",
       "      <td>0</td>\n",
       "      <td>Asheville</td>\n",
       "    </tr>\n",
       "    <tr>\n",
       "      <th>1</th>\n",
       "      <td>80905</td>\n",
       "      <td>French Chic Loft</td>\n",
       "      <td>427027</td>\n",
       "      <td>Celeste</td>\n",
       "      <td>NaN</td>\n",
       "      <td>28801</td>\n",
       "      <td>35.59779</td>\n",
       "      <td>-82.55540</td>\n",
       "      <td>Entire home/apt</td>\n",
       "      <td>470</td>\n",
       "      <td>1</td>\n",
       "      <td>114</td>\n",
       "      <td>07/09/20</td>\n",
       "      <td>1.03</td>\n",
       "      <td>11</td>\n",
       "      <td>288</td>\n",
       "      <td>Asheville</td>\n",
       "    </tr>\n",
       "    <tr>\n",
       "      <th>2</th>\n",
       "      <td>108061</td>\n",
       "      <td>Walk to stores/parks/downtown. Fenced yard/Pet...</td>\n",
       "      <td>320564</td>\n",
       "      <td>Lisa</td>\n",
       "      <td>NaN</td>\n",
       "      <td>28801</td>\n",
       "      <td>35.60670</td>\n",
       "      <td>-82.55563</td>\n",
       "      <td>Entire home/apt</td>\n",
       "      <td>75</td>\n",
       "      <td>30</td>\n",
       "      <td>89</td>\n",
       "      <td>30/11/19</td>\n",
       "      <td>0.81</td>\n",
       "      <td>2</td>\n",
       "      <td>298</td>\n",
       "      <td>Asheville</td>\n",
       "    </tr>\n",
       "    <tr>\n",
       "      <th>3</th>\n",
       "      <td>155305</td>\n",
       "      <td>Cottage! BonPaul + Sharky's Hostel</td>\n",
       "      <td>746673</td>\n",
       "      <td>BonPaul</td>\n",
       "      <td>NaN</td>\n",
       "      <td>28806</td>\n",
       "      <td>35.57864</td>\n",
       "      <td>-82.59578</td>\n",
       "      <td>Entire home/apt</td>\n",
       "      <td>90</td>\n",
       "      <td>1</td>\n",
       "      <td>267</td>\n",
       "      <td>22/09/20</td>\n",
       "      <td>2.39</td>\n",
       "      <td>5</td>\n",
       "      <td>0</td>\n",
       "      <td>Asheville</td>\n",
       "    </tr>\n",
       "    <tr>\n",
       "      <th>4</th>\n",
       "      <td>160594</td>\n",
       "      <td>Historic Grove Park</td>\n",
       "      <td>769252</td>\n",
       "      <td>Elizabeth</td>\n",
       "      <td>NaN</td>\n",
       "      <td>28801</td>\n",
       "      <td>35.61442</td>\n",
       "      <td>-82.54127</td>\n",
       "      <td>Private room</td>\n",
       "      <td>125</td>\n",
       "      <td>30</td>\n",
       "      <td>58</td>\n",
       "      <td>19/10/15</td>\n",
       "      <td>0.52</td>\n",
       "      <td>1</td>\n",
       "      <td>0</td>\n",
       "      <td>Asheville</td>\n",
       "    </tr>\n",
       "  </tbody>\n",
       "</table>\n",
       "</div>"
      ],
      "text/plain": [
       "       id                                               name  host_id  \\\n",
       "0   38585    Charming Victorian home - twin beds + breakfast   165529   \n",
       "1   80905                                   French Chic Loft   427027   \n",
       "2  108061  Walk to stores/parks/downtown. Fenced yard/Pet...   320564   \n",
       "3  155305                 Cottage! BonPaul + Sharky's Hostel   746673   \n",
       "4  160594                                Historic Grove Park   769252   \n",
       "\n",
       "   host_name neighbourhood_group neighbourhood  latitude  longitude  \\\n",
       "0    Evelyne                 NaN         28804  35.65146  -82.62792   \n",
       "1    Celeste                 NaN         28801  35.59779  -82.55540   \n",
       "2       Lisa                 NaN         28801  35.60670  -82.55563   \n",
       "3    BonPaul                 NaN         28806  35.57864  -82.59578   \n",
       "4  Elizabeth                 NaN         28801  35.61442  -82.54127   \n",
       "\n",
       "         room_type  price  minimum_nights  number_of_reviews last_review  \\\n",
       "0     Private room     60               1                138    16/02/20   \n",
       "1  Entire home/apt    470               1                114    07/09/20   \n",
       "2  Entire home/apt     75              30                 89    30/11/19   \n",
       "3  Entire home/apt     90               1                267    22/09/20   \n",
       "4     Private room    125              30                 58    19/10/15   \n",
       "\n",
       "   reviews_per_month  calculated_host_listings_count  availability_365  \\\n",
       "0               1.14                               1                 0   \n",
       "1               1.03                              11               288   \n",
       "2               0.81                               2               298   \n",
       "3               2.39                               5                 0   \n",
       "4               0.52                               1                 0   \n",
       "\n",
       "        city  \n",
       "0  Asheville  \n",
       "1  Asheville  \n",
       "2  Asheville  \n",
       "3  Asheville  \n",
       "4  Asheville  "
      ]
     },
     "execution_count": 3,
     "metadata": {},
     "output_type": "execute_result"
    }
   ],
   "source": [
    "df=pd.read_csv(\"../input/us-airbnb-open-data/AB_US_2020.csv\")\n",
    "df.head()"
   ]
  },
  {
   "cell_type": "code",
   "execution_count": 4,
   "id": "0cf0ec51",
   "metadata": {
    "execution": {
     "iopub.execute_input": "2021-07-12T14:46:56.783921Z",
     "iopub.status.busy": "2021-07-12T14:46:56.783320Z",
     "iopub.status.idle": "2021-07-12T14:46:56.934097Z",
     "shell.execute_reply": "2021-07-12T14:46:56.933483Z"
    },
    "papermill": {
     "duration": 0.185717,
     "end_time": "2021-07-12T14:46:56.934222",
     "exception": false,
     "start_time": "2021-07-12T14:46:56.748505",
     "status": "completed"
    },
    "tags": []
   },
   "outputs": [
    {
     "data": {
      "text/plain": [
       "id                                     0\n",
       "name                                  28\n",
       "host_id                                0\n",
       "host_name                             33\n",
       "neighbourhood_group               115845\n",
       "neighbourhood                          0\n",
       "latitude                               0\n",
       "longitude                              0\n",
       "room_type                              0\n",
       "price                                  0\n",
       "minimum_nights                         0\n",
       "number_of_reviews                      0\n",
       "last_review                        48602\n",
       "reviews_per_month                  48602\n",
       "calculated_host_listings_count         0\n",
       "availability_365                       0\n",
       "city                                   0\n",
       "dtype: int64"
      ]
     },
     "execution_count": 4,
     "metadata": {},
     "output_type": "execute_result"
    }
   ],
   "source": [
    "df.isna().sum()"
   ]
  },
  {
   "cell_type": "code",
   "execution_count": 5,
   "id": "3845b52e",
   "metadata": {
    "execution": {
     "iopub.execute_input": "2021-07-12T14:46:57.005183Z",
     "iopub.status.busy": "2021-07-12T14:46:57.004561Z",
     "iopub.status.idle": "2021-07-12T14:46:57.166040Z",
     "shell.execute_reply": "2021-07-12T14:46:57.166712Z"
    },
    "papermill": {
     "duration": 0.199391,
     "end_time": "2021-07-12T14:46:57.166916",
     "exception": false,
     "start_time": "2021-07-12T14:46:56.967525",
     "status": "completed"
    },
    "tags": []
   },
   "outputs": [
    {
     "name": "stdout",
     "output_type": "stream",
     "text": [
      "<class 'pandas.core.frame.DataFrame'>\n",
      "RangeIndex: 226030 entries, 0 to 226029\n",
      "Data columns (total 17 columns):\n",
      " #   Column                          Non-Null Count   Dtype  \n",
      "---  ------                          --------------   -----  \n",
      " 0   id                              226030 non-null  int64  \n",
      " 1   name                            226002 non-null  object \n",
      " 2   host_id                         226030 non-null  int64  \n",
      " 3   host_name                       225997 non-null  object \n",
      " 4   neighbourhood_group             110185 non-null  object \n",
      " 5   neighbourhood                   226030 non-null  object \n",
      " 6   latitude                        226030 non-null  float64\n",
      " 7   longitude                       226030 non-null  float64\n",
      " 8   room_type                       226030 non-null  object \n",
      " 9   price                           226030 non-null  int64  \n",
      " 10  minimum_nights                  226030 non-null  int64  \n",
      " 11  number_of_reviews               226030 non-null  int64  \n",
      " 12  last_review                     177428 non-null  object \n",
      " 13  reviews_per_month               177428 non-null  float64\n",
      " 14  calculated_host_listings_count  226030 non-null  int64  \n",
      " 15  availability_365                226030 non-null  int64  \n",
      " 16  city                            226030 non-null  object \n",
      "dtypes: float64(3), int64(7), object(7)\n",
      "memory usage: 29.3+ MB\n"
     ]
    }
   ],
   "source": [
    "df.info()"
   ]
  },
  {
   "cell_type": "code",
   "execution_count": 6,
   "id": "f1bd8462",
   "metadata": {
    "execution": {
     "iopub.execute_input": "2021-07-12T14:46:57.241995Z",
     "iopub.status.busy": "2021-07-12T14:46:57.241404Z",
     "iopub.status.idle": "2021-07-12T14:46:57.244105Z",
     "shell.execute_reply": "2021-07-12T14:46:57.244517Z"
    },
    "papermill": {
     "duration": 0.045034,
     "end_time": "2021-07-12T14:46:57.244671",
     "exception": false,
     "start_time": "2021-07-12T14:46:57.199637",
     "status": "completed"
    },
    "tags": []
   },
   "outputs": [],
   "source": [
    "df1=df.select_dtypes('float')"
   ]
  },
  {
   "cell_type": "markdown",
   "id": "4ee4e272",
   "metadata": {
    "papermill": {
     "duration": 0.031408,
     "end_time": "2021-07-12T14:46:57.307028",
     "exception": false,
     "start_time": "2021-07-12T14:46:57.275620",
     "status": "completed"
    },
    "tags": []
   },
   "source": [
    "# finding inifite values in dataset"
   ]
  },
  {
   "cell_type": "code",
   "execution_count": 7,
   "id": "e8fcb06f",
   "metadata": {
    "execution": {
     "iopub.execute_input": "2021-07-12T14:46:57.374573Z",
     "iopub.status.busy": "2021-07-12T14:46:57.373603Z",
     "iopub.status.idle": "2021-07-12T14:46:57.470752Z",
     "shell.execute_reply": "2021-07-12T14:46:57.471216Z"
    },
    "papermill": {
     "duration": 0.133084,
     "end_time": "2021-07-12T14:46:57.471371",
     "exception": false,
     "start_time": "2021-07-12T14:46:57.338287",
     "status": "completed"
    },
    "tags": []
   },
   "outputs": [
    {
     "data": {
      "text/plain": [
       "latitude             0\n",
       "longitude            0\n",
       "reviews_per_month    0\n",
       "dtype: int64"
      ]
     },
     "execution_count": 7,
     "metadata": {},
     "output_type": "execute_result"
    }
   ],
   "source": [
    "np.isinf(df1.stack()).groupby(level=1).sum()"
   ]
  },
  {
   "cell_type": "code",
   "execution_count": 8,
   "id": "20cfbf4f",
   "metadata": {
    "execution": {
     "iopub.execute_input": "2021-07-12T14:46:57.539596Z",
     "iopub.status.busy": "2021-07-12T14:46:57.538730Z",
     "iopub.status.idle": "2021-07-12T14:46:57.547350Z",
     "shell.execute_reply": "2021-07-12T14:46:57.547893Z"
    },
    "papermill": {
     "duration": 0.044405,
     "end_time": "2021-07-12T14:46:57.548057",
     "exception": false,
     "start_time": "2021-07-12T14:46:57.503652",
     "status": "completed"
    },
    "tags": []
   },
   "outputs": [
    {
     "data": {
      "text/plain": [
       "latitude                 0\n",
       "longitude                0\n",
       "reviews_per_month    48602\n",
       "dtype: int64"
      ]
     },
     "execution_count": 8,
     "metadata": {},
     "output_type": "execute_result"
    }
   ],
   "source": [
    "df1.isna().sum()"
   ]
  },
  {
   "cell_type": "markdown",
   "id": "679c9b3f",
   "metadata": {
    "papermill": {
     "duration": 0.032356,
     "end_time": "2021-07-12T14:46:57.612948",
     "exception": false,
     "start_time": "2021-07-12T14:46:57.580592",
     "status": "completed"
    },
    "tags": []
   },
   "source": [
    "# coverting float to int"
   ]
  },
  {
   "cell_type": "code",
   "execution_count": 9,
   "id": "2f94550e",
   "metadata": {
    "execution": {
     "iopub.execute_input": "2021-07-12T14:46:57.681672Z",
     "iopub.status.busy": "2021-07-12T14:46:57.680783Z",
     "iopub.status.idle": "2021-07-12T14:46:57.916123Z",
     "shell.execute_reply": "2021-07-12T14:46:57.915524Z"
    },
    "papermill": {
     "duration": 0.270643,
     "end_time": "2021-07-12T14:46:57.916258",
     "exception": false,
     "start_time": "2021-07-12T14:46:57.645615",
     "status": "completed"
    },
    "tags": []
   },
   "outputs": [
    {
     "data": {
      "text/plain": [
       "availability_365                  0\n",
       "calculated_host_listings_count    0\n",
       "host_id                           0\n",
       "id                                0\n",
       "minimum_nights                    0\n",
       "number_of_reviews                 0\n",
       "price                             0\n",
       "dtype: int64"
      ]
     },
     "execution_count": 9,
     "metadata": {},
     "output_type": "execute_result"
    }
   ],
   "source": [
    "df2=df.select_dtypes(\"int\")\n",
    "np.isinf(df2.stack()).groupby(level=1).sum()"
   ]
  },
  {
   "cell_type": "code",
   "execution_count": 10,
   "id": "095b4177",
   "metadata": {
    "execution": {
     "iopub.execute_input": "2021-07-12T14:46:57.986983Z",
     "iopub.status.busy": "2021-07-12T14:46:57.986394Z",
     "iopub.status.idle": "2021-07-12T14:46:57.994829Z",
     "shell.execute_reply": "2021-07-12T14:46:57.994289Z"
    },
    "papermill": {
     "duration": 0.045548,
     "end_time": "2021-07-12T14:46:57.994984",
     "exception": false,
     "start_time": "2021-07-12T14:46:57.949436",
     "status": "completed"
    },
    "tags": []
   },
   "outputs": [
    {
     "data": {
      "text/plain": [
       "id                                0\n",
       "host_id                           0\n",
       "price                             0\n",
       "minimum_nights                    0\n",
       "number_of_reviews                 0\n",
       "calculated_host_listings_count    0\n",
       "availability_365                  0\n",
       "dtype: int64"
      ]
     },
     "execution_count": 10,
     "metadata": {},
     "output_type": "execute_result"
    }
   ],
   "source": [
    "df2.isna().sum()"
   ]
  },
  {
   "cell_type": "code",
   "execution_count": 11,
   "id": "8320ef7c",
   "metadata": {
    "execution": {
     "iopub.execute_input": "2021-07-12T14:46:58.068031Z",
     "iopub.status.busy": "2021-07-12T14:46:58.066592Z",
     "iopub.status.idle": "2021-07-12T14:46:58.118649Z",
     "shell.execute_reply": "2021-07-12T14:46:58.118216Z"
    },
    "papermill": {
     "duration": 0.089891,
     "end_time": "2021-07-12T14:46:58.118770",
     "exception": false,
     "start_time": "2021-07-12T14:46:58.028879",
     "status": "completed"
    },
    "tags": []
   },
   "outputs": [
    {
     "data": {
      "text/html": [
       "<div>\n",
       "<style scoped>\n",
       "    .dataframe tbody tr th:only-of-type {\n",
       "        vertical-align: middle;\n",
       "    }\n",
       "\n",
       "    .dataframe tbody tr th {\n",
       "        vertical-align: top;\n",
       "    }\n",
       "\n",
       "    .dataframe thead th {\n",
       "        text-align: right;\n",
       "    }\n",
       "</style>\n",
       "<table border=\"1\" class=\"dataframe\">\n",
       "  <thead>\n",
       "    <tr style=\"text-align: right;\">\n",
       "      <th></th>\n",
       "      <th>id</th>\n",
       "      <th>name</th>\n",
       "      <th>host_id</th>\n",
       "      <th>host_name</th>\n",
       "      <th>neighbourhood_group</th>\n",
       "      <th>neighbourhood</th>\n",
       "      <th>latitude</th>\n",
       "      <th>longitude</th>\n",
       "      <th>room_type</th>\n",
       "      <th>price</th>\n",
       "      <th>minimum_nights</th>\n",
       "      <th>number_of_reviews</th>\n",
       "      <th>last_review</th>\n",
       "      <th>reviews_per_month</th>\n",
       "      <th>calculated_host_listings_count</th>\n",
       "      <th>availability_365</th>\n",
       "      <th>city</th>\n",
       "    </tr>\n",
       "  </thead>\n",
       "  <tbody>\n",
       "    <tr>\n",
       "      <th>0</th>\n",
       "      <td>38585</td>\n",
       "      <td>Charming Victorian home - twin beds + breakfast</td>\n",
       "      <td>165529</td>\n",
       "      <td>Evelyne</td>\n",
       "      <td>NaN</td>\n",
       "      <td>28804</td>\n",
       "      <td>35.651460</td>\n",
       "      <td>-82.627920</td>\n",
       "      <td>Private room</td>\n",
       "      <td>60</td>\n",
       "      <td>1</td>\n",
       "      <td>138</td>\n",
       "      <td>16/02/20</td>\n",
       "      <td>1.14</td>\n",
       "      <td>1</td>\n",
       "      <td>0</td>\n",
       "      <td>Asheville</td>\n",
       "    </tr>\n",
       "    <tr>\n",
       "      <th>1</th>\n",
       "      <td>80905</td>\n",
       "      <td>French Chic Loft</td>\n",
       "      <td>427027</td>\n",
       "      <td>Celeste</td>\n",
       "      <td>NaN</td>\n",
       "      <td>28801</td>\n",
       "      <td>35.597790</td>\n",
       "      <td>-82.555400</td>\n",
       "      <td>Entire home/apt</td>\n",
       "      <td>470</td>\n",
       "      <td>1</td>\n",
       "      <td>114</td>\n",
       "      <td>07/09/20</td>\n",
       "      <td>1.03</td>\n",
       "      <td>11</td>\n",
       "      <td>288</td>\n",
       "      <td>Asheville</td>\n",
       "    </tr>\n",
       "    <tr>\n",
       "      <th>2</th>\n",
       "      <td>108061</td>\n",
       "      <td>Walk to stores/parks/downtown. Fenced yard/Pet...</td>\n",
       "      <td>320564</td>\n",
       "      <td>Lisa</td>\n",
       "      <td>NaN</td>\n",
       "      <td>28801</td>\n",
       "      <td>35.606700</td>\n",
       "      <td>-82.555630</td>\n",
       "      <td>Entire home/apt</td>\n",
       "      <td>75</td>\n",
       "      <td>30</td>\n",
       "      <td>89</td>\n",
       "      <td>30/11/19</td>\n",
       "      <td>0.81</td>\n",
       "      <td>2</td>\n",
       "      <td>298</td>\n",
       "      <td>Asheville</td>\n",
       "    </tr>\n",
       "    <tr>\n",
       "      <th>3</th>\n",
       "      <td>155305</td>\n",
       "      <td>Cottage! BonPaul + Sharky's Hostel</td>\n",
       "      <td>746673</td>\n",
       "      <td>BonPaul</td>\n",
       "      <td>NaN</td>\n",
       "      <td>28806</td>\n",
       "      <td>35.578640</td>\n",
       "      <td>-82.595780</td>\n",
       "      <td>Entire home/apt</td>\n",
       "      <td>90</td>\n",
       "      <td>1</td>\n",
       "      <td>267</td>\n",
       "      <td>22/09/20</td>\n",
       "      <td>2.39</td>\n",
       "      <td>5</td>\n",
       "      <td>0</td>\n",
       "      <td>Asheville</td>\n",
       "    </tr>\n",
       "    <tr>\n",
       "      <th>4</th>\n",
       "      <td>160594</td>\n",
       "      <td>Historic Grove Park</td>\n",
       "      <td>769252</td>\n",
       "      <td>Elizabeth</td>\n",
       "      <td>NaN</td>\n",
       "      <td>28801</td>\n",
       "      <td>35.614420</td>\n",
       "      <td>-82.541270</td>\n",
       "      <td>Private room</td>\n",
       "      <td>125</td>\n",
       "      <td>30</td>\n",
       "      <td>58</td>\n",
       "      <td>19/10/15</td>\n",
       "      <td>0.52</td>\n",
       "      <td>1</td>\n",
       "      <td>0</td>\n",
       "      <td>Asheville</td>\n",
       "    </tr>\n",
       "    <tr>\n",
       "      <th>...</th>\n",
       "      <td>...</td>\n",
       "      <td>...</td>\n",
       "      <td>...</td>\n",
       "      <td>...</td>\n",
       "      <td>...</td>\n",
       "      <td>...</td>\n",
       "      <td>...</td>\n",
       "      <td>...</td>\n",
       "      <td>...</td>\n",
       "      <td>...</td>\n",
       "      <td>...</td>\n",
       "      <td>...</td>\n",
       "      <td>...</td>\n",
       "      <td>...</td>\n",
       "      <td>...</td>\n",
       "      <td>...</td>\n",
       "      <td>...</td>\n",
       "    </tr>\n",
       "    <tr>\n",
       "      <th>226025</th>\n",
       "      <td>45506143</td>\n",
       "      <td>DC Hidden In Plain \"Site\"</td>\n",
       "      <td>25973146</td>\n",
       "      <td>Marci</td>\n",
       "      <td>NaN</td>\n",
       "      <td>Downtown, Chinatown, Penn Quarters, Mount Vern...</td>\n",
       "      <td>38.903880</td>\n",
       "      <td>-77.029730</td>\n",
       "      <td>Entire home/apt</td>\n",
       "      <td>104</td>\n",
       "      <td>1</td>\n",
       "      <td>0</td>\n",
       "      <td>NaN</td>\n",
       "      <td>NaN</td>\n",
       "      <td>2</td>\n",
       "      <td>99</td>\n",
       "      <td>Washington D.C.</td>\n",
       "    </tr>\n",
       "    <tr>\n",
       "      <th>226026</th>\n",
       "      <td>45511428</td>\n",
       "      <td>DC 3 BR w/ screen porch 3 blck to metro w/ par...</td>\n",
       "      <td>231133074</td>\n",
       "      <td>Thomas</td>\n",
       "      <td>NaN</td>\n",
       "      <td>Brookland, Brentwood, Langdon</td>\n",
       "      <td>38.920820</td>\n",
       "      <td>-76.990980</td>\n",
       "      <td>Entire home/apt</td>\n",
       "      <td>151</td>\n",
       "      <td>2</td>\n",
       "      <td>0</td>\n",
       "      <td>NaN</td>\n",
       "      <td>NaN</td>\n",
       "      <td>1</td>\n",
       "      <td>300</td>\n",
       "      <td>Washington D.C.</td>\n",
       "    </tr>\n",
       "    <tr>\n",
       "      <th>226027</th>\n",
       "      <td>45514685</td>\n",
       "      <td>Charming Penthouse Apt w/ Rooftop Terrace in L...</td>\n",
       "      <td>33758935</td>\n",
       "      <td>Bassem</td>\n",
       "      <td>NaN</td>\n",
       "      <td>Shaw, Logan Circle</td>\n",
       "      <td>38.911170</td>\n",
       "      <td>-77.033540</td>\n",
       "      <td>Entire home/apt</td>\n",
       "      <td>240</td>\n",
       "      <td>2</td>\n",
       "      <td>0</td>\n",
       "      <td>NaN</td>\n",
       "      <td>NaN</td>\n",
       "      <td>1</td>\n",
       "      <td>173</td>\n",
       "      <td>Washington D.C.</td>\n",
       "    </tr>\n",
       "    <tr>\n",
       "      <th>226028</th>\n",
       "      <td>45516412</td>\n",
       "      <td>Adams Morgan/Nat'l Zoo 1 BR Apt #32</td>\n",
       "      <td>23193071</td>\n",
       "      <td>Michael</td>\n",
       "      <td>NaN</td>\n",
       "      <td>Kalorama Heights, Adams Morgan, Lanier Heights</td>\n",
       "      <td>38.926630</td>\n",
       "      <td>-77.044360</td>\n",
       "      <td>Entire home/apt</td>\n",
       "      <td>60</td>\n",
       "      <td>21</td>\n",
       "      <td>0</td>\n",
       "      <td>NaN</td>\n",
       "      <td>NaN</td>\n",
       "      <td>5</td>\n",
       "      <td>362</td>\n",
       "      <td>Washington D.C.</td>\n",
       "    </tr>\n",
       "    <tr>\n",
       "      <th>226029</th>\n",
       "      <td>45517735</td>\n",
       "      <td>Beautiful large one-bedroom w/ washer and dryer</td>\n",
       "      <td>17789858</td>\n",
       "      <td>Adam</td>\n",
       "      <td>NaN</td>\n",
       "      <td>Edgewood, Bloomingdale, Truxton Circle, Eckington</td>\n",
       "      <td>38.911569</td>\n",
       "      <td>-77.009431</td>\n",
       "      <td>Entire home/apt</td>\n",
       "      <td>79</td>\n",
       "      <td>7</td>\n",
       "      <td>0</td>\n",
       "      <td>NaN</td>\n",
       "      <td>NaN</td>\n",
       "      <td>2</td>\n",
       "      <td>62</td>\n",
       "      <td>Washington D.C.</td>\n",
       "    </tr>\n",
       "  </tbody>\n",
       "</table>\n",
       "<p>226030 rows × 17 columns</p>\n",
       "</div>"
      ],
      "text/plain": [
       "              id                                               name  \\\n",
       "0          38585    Charming Victorian home - twin beds + breakfast   \n",
       "1          80905                                   French Chic Loft   \n",
       "2         108061  Walk to stores/parks/downtown. Fenced yard/Pet...   \n",
       "3         155305                 Cottage! BonPaul + Sharky's Hostel   \n",
       "4         160594                                Historic Grove Park   \n",
       "...          ...                                                ...   \n",
       "226025  45506143                          DC Hidden In Plain \"Site\"   \n",
       "226026  45511428  DC 3 BR w/ screen porch 3 blck to metro w/ par...   \n",
       "226027  45514685  Charming Penthouse Apt w/ Rooftop Terrace in L...   \n",
       "226028  45516412                Adams Morgan/Nat'l Zoo 1 BR Apt #32   \n",
       "226029  45517735    Beautiful large one-bedroom w/ washer and dryer   \n",
       "\n",
       "          host_id  host_name neighbourhood_group  \\\n",
       "0          165529    Evelyne                 NaN   \n",
       "1          427027    Celeste                 NaN   \n",
       "2          320564       Lisa                 NaN   \n",
       "3          746673    BonPaul                 NaN   \n",
       "4          769252  Elizabeth                 NaN   \n",
       "...           ...        ...                 ...   \n",
       "226025   25973146      Marci                 NaN   \n",
       "226026  231133074     Thomas                 NaN   \n",
       "226027   33758935     Bassem                 NaN   \n",
       "226028   23193071    Michael                 NaN   \n",
       "226029   17789858       Adam                 NaN   \n",
       "\n",
       "                                            neighbourhood   latitude  \\\n",
       "0                                                   28804  35.651460   \n",
       "1                                                   28801  35.597790   \n",
       "2                                                   28801  35.606700   \n",
       "3                                                   28806  35.578640   \n",
       "4                                                   28801  35.614420   \n",
       "...                                                   ...        ...   \n",
       "226025  Downtown, Chinatown, Penn Quarters, Mount Vern...  38.903880   \n",
       "226026                      Brookland, Brentwood, Langdon  38.920820   \n",
       "226027                                 Shaw, Logan Circle  38.911170   \n",
       "226028     Kalorama Heights, Adams Morgan, Lanier Heights  38.926630   \n",
       "226029  Edgewood, Bloomingdale, Truxton Circle, Eckington  38.911569   \n",
       "\n",
       "        longitude        room_type  price  minimum_nights  number_of_reviews  \\\n",
       "0      -82.627920     Private room     60               1                138   \n",
       "1      -82.555400  Entire home/apt    470               1                114   \n",
       "2      -82.555630  Entire home/apt     75              30                 89   \n",
       "3      -82.595780  Entire home/apt     90               1                267   \n",
       "4      -82.541270     Private room    125              30                 58   \n",
       "...           ...              ...    ...             ...                ...   \n",
       "226025 -77.029730  Entire home/apt    104               1                  0   \n",
       "226026 -76.990980  Entire home/apt    151               2                  0   \n",
       "226027 -77.033540  Entire home/apt    240               2                  0   \n",
       "226028 -77.044360  Entire home/apt     60              21                  0   \n",
       "226029 -77.009431  Entire home/apt     79               7                  0   \n",
       "\n",
       "       last_review  reviews_per_month  calculated_host_listings_count  \\\n",
       "0         16/02/20               1.14                               1   \n",
       "1         07/09/20               1.03                              11   \n",
       "2         30/11/19               0.81                               2   \n",
       "3         22/09/20               2.39                               5   \n",
       "4         19/10/15               0.52                               1   \n",
       "...            ...                ...                             ...   \n",
       "226025         NaN                NaN                               2   \n",
       "226026         NaN                NaN                               1   \n",
       "226027         NaN                NaN                               1   \n",
       "226028         NaN                NaN                               5   \n",
       "226029         NaN                NaN                               2   \n",
       "\n",
       "        availability_365             city  \n",
       "0                      0        Asheville  \n",
       "1                    288        Asheville  \n",
       "2                    298        Asheville  \n",
       "3                      0        Asheville  \n",
       "4                      0        Asheville  \n",
       "...                  ...              ...  \n",
       "226025                99  Washington D.C.  \n",
       "226026               300  Washington D.C.  \n",
       "226027               173  Washington D.C.  \n",
       "226028               362  Washington D.C.  \n",
       "226029                62  Washington D.C.  \n",
       "\n",
       "[226030 rows x 17 columns]"
      ]
     },
     "execution_count": 11,
     "metadata": {},
     "output_type": "execute_result"
    }
   ],
   "source": [
    "df.copy()"
   ]
  },
  {
   "cell_type": "markdown",
   "id": "989de868",
   "metadata": {
    "papermill": {
     "duration": 0.035452,
     "end_time": "2021-07-12T14:46:58.187828",
     "exception": false,
     "start_time": "2021-07-12T14:46:58.152376",
     "status": "completed"
    },
    "tags": []
   },
   "source": [
    "# handling missing values "
   ]
  },
  {
   "cell_type": "code",
   "execution_count": 12,
   "id": "9355e3a7",
   "metadata": {
    "execution": {
     "iopub.execute_input": "2021-07-12T14:46:58.263718Z",
     "iopub.status.busy": "2021-07-12T14:46:58.263120Z",
     "iopub.status.idle": "2021-07-12T14:46:58.478308Z",
     "shell.execute_reply": "2021-07-12T14:46:58.479187Z"
    },
    "papermill": {
     "duration": 0.255862,
     "end_time": "2021-07-12T14:46:58.479430",
     "exception": false,
     "start_time": "2021-07-12T14:46:58.223568",
     "status": "completed"
    },
    "tags": []
   },
   "outputs": [
    {
     "data": {
      "text/html": [
       "<div>\n",
       "<style scoped>\n",
       "    .dataframe tbody tr th:only-of-type {\n",
       "        vertical-align: middle;\n",
       "    }\n",
       "\n",
       "    .dataframe tbody tr th {\n",
       "        vertical-align: top;\n",
       "    }\n",
       "\n",
       "    .dataframe thead th {\n",
       "        text-align: right;\n",
       "    }\n",
       "</style>\n",
       "<table border=\"1\" class=\"dataframe\">\n",
       "  <thead>\n",
       "    <tr style=\"text-align: right;\">\n",
       "      <th></th>\n",
       "      <th>id</th>\n",
       "      <th>name</th>\n",
       "      <th>host_id</th>\n",
       "      <th>host_name</th>\n",
       "      <th>neighbourhood_group</th>\n",
       "      <th>neighbourhood</th>\n",
       "      <th>latitude</th>\n",
       "      <th>longitude</th>\n",
       "      <th>room_type</th>\n",
       "      <th>price</th>\n",
       "      <th>minimum_nights</th>\n",
       "      <th>number_of_reviews</th>\n",
       "      <th>last_review</th>\n",
       "      <th>reviews_per_month</th>\n",
       "      <th>calculated_host_listings_count</th>\n",
       "      <th>availability_365</th>\n",
       "      <th>city</th>\n",
       "    </tr>\n",
       "  </thead>\n",
       "  <tbody>\n",
       "    <tr>\n",
       "      <th>48150</th>\n",
       "      <td>5065</td>\n",
       "      <td>MAUKA BB</td>\n",
       "      <td>7257</td>\n",
       "      <td>Wayne</td>\n",
       "      <td>Hawaii</td>\n",
       "      <td>Hamakua</td>\n",
       "      <td>20.04095</td>\n",
       "      <td>-155.43251</td>\n",
       "      <td>Entire home/apt</td>\n",
       "      <td>85</td>\n",
       "      <td>2</td>\n",
       "      <td>42</td>\n",
       "      <td>22/03/20</td>\n",
       "      <td>0.45</td>\n",
       "      <td>2</td>\n",
       "      <td>365</td>\n",
       "      <td>Hawaii</td>\n",
       "    </tr>\n",
       "    <tr>\n",
       "      <th>48151</th>\n",
       "      <td>5269</td>\n",
       "      <td>Upcountry Hospitality in the 'Auwai Suite</td>\n",
       "      <td>7620</td>\n",
       "      <td>Lea &amp; Pat</td>\n",
       "      <td>Hawaii</td>\n",
       "      <td>South Kohala</td>\n",
       "      <td>20.02740</td>\n",
       "      <td>-155.70200</td>\n",
       "      <td>Entire home/apt</td>\n",
       "      <td>124</td>\n",
       "      <td>30</td>\n",
       "      <td>10</td>\n",
       "      <td>01/03/20</td>\n",
       "      <td>0.09</td>\n",
       "      <td>5</td>\n",
       "      <td>261</td>\n",
       "      <td>Hawaii</td>\n",
       "    </tr>\n",
       "    <tr>\n",
       "      <th>48152</th>\n",
       "      <td>5387</td>\n",
       "      <td>Hale Koa Studio &amp; 1 Bedroom Units!!</td>\n",
       "      <td>7878</td>\n",
       "      <td>Edward</td>\n",
       "      <td>Hawaii</td>\n",
       "      <td>South Kona</td>\n",
       "      <td>19.43119</td>\n",
       "      <td>-155.88079</td>\n",
       "      <td>Entire home/apt</td>\n",
       "      <td>85</td>\n",
       "      <td>5</td>\n",
       "      <td>168</td>\n",
       "      <td>18/03/20</td>\n",
       "      <td>1.30</td>\n",
       "      <td>3</td>\n",
       "      <td>242</td>\n",
       "      <td>Hawaii</td>\n",
       "    </tr>\n",
       "    <tr>\n",
       "      <th>48153</th>\n",
       "      <td>5389</td>\n",
       "      <td>Keauhou Villa</td>\n",
       "      <td>7878</td>\n",
       "      <td>Edward</td>\n",
       "      <td>Hawaii</td>\n",
       "      <td>North Kona</td>\n",
       "      <td>19.56413</td>\n",
       "      <td>-155.96347</td>\n",
       "      <td>Entire home/apt</td>\n",
       "      <td>239</td>\n",
       "      <td>6</td>\n",
       "      <td>20</td>\n",
       "      <td>22/03/20</td>\n",
       "      <td>0.24</td>\n",
       "      <td>3</td>\n",
       "      <td>287</td>\n",
       "      <td>Hawaii</td>\n",
       "    </tr>\n",
       "    <tr>\n",
       "      <th>48154</th>\n",
       "      <td>5390</td>\n",
       "      <td>STAY AT PRINCE KUHIO!</td>\n",
       "      <td>7887</td>\n",
       "      <td>Todd</td>\n",
       "      <td>Kauai</td>\n",
       "      <td>Koloa-Poipu</td>\n",
       "      <td>21.88305</td>\n",
       "      <td>-159.47372</td>\n",
       "      <td>Entire home/apt</td>\n",
       "      <td>92</td>\n",
       "      <td>3</td>\n",
       "      <td>143</td>\n",
       "      <td>10/08/20</td>\n",
       "      <td>1.03</td>\n",
       "      <td>1</td>\n",
       "      <td>116</td>\n",
       "      <td>Hawaii</td>\n",
       "    </tr>\n",
       "    <tr>\n",
       "      <th>...</th>\n",
       "      <td>...</td>\n",
       "      <td>...</td>\n",
       "      <td>...</td>\n",
       "      <td>...</td>\n",
       "      <td>...</td>\n",
       "      <td>...</td>\n",
       "      <td>...</td>\n",
       "      <td>...</td>\n",
       "      <td>...</td>\n",
       "      <td>...</td>\n",
       "      <td>...</td>\n",
       "      <td>...</td>\n",
       "      <td>...</td>\n",
       "      <td>...</td>\n",
       "      <td>...</td>\n",
       "      <td>...</td>\n",
       "      <td>...</td>\n",
       "    </tr>\n",
       "    <tr>\n",
       "      <th>212157</th>\n",
       "      <td>43531859</td>\n",
       "      <td>Chic Seattle Apartment near Greenlake</td>\n",
       "      <td>6601753</td>\n",
       "      <td>Isabel</td>\n",
       "      <td>Other neighborhoods</td>\n",
       "      <td>Roosevelt</td>\n",
       "      <td>47.68457</td>\n",
       "      <td>-122.31550</td>\n",
       "      <td>Entire home/apt</td>\n",
       "      <td>100</td>\n",
       "      <td>3</td>\n",
       "      <td>1</td>\n",
       "      <td>06/06/20</td>\n",
       "      <td>1.00</td>\n",
       "      <td>1</td>\n",
       "      <td>99</td>\n",
       "      <td>Seattle</td>\n",
       "    </tr>\n",
       "    <tr>\n",
       "      <th>212159</th>\n",
       "      <td>43554835</td>\n",
       "      <td>SL6 - Private¬∑Modern¬∑Quality¬∑Convenient¬∑N ...</td>\n",
       "      <td>287025852</td>\n",
       "      <td>Li</td>\n",
       "      <td>Lake City</td>\n",
       "      <td>Olympic Hills</td>\n",
       "      <td>47.73462</td>\n",
       "      <td>-122.29509</td>\n",
       "      <td>Private room</td>\n",
       "      <td>79</td>\n",
       "      <td>1</td>\n",
       "      <td>2</td>\n",
       "      <td>10/06/20</td>\n",
       "      <td>2.00</td>\n",
       "      <td>3</td>\n",
       "      <td>337</td>\n",
       "      <td>Seattle</td>\n",
       "    </tr>\n",
       "    <tr>\n",
       "      <th>212160</th>\n",
       "      <td>43554849</td>\n",
       "      <td>SL4 - Modern,Private,Quality,Convenient,N Seattle</td>\n",
       "      <td>287025852</td>\n",
       "      <td>Li</td>\n",
       "      <td>Lake City</td>\n",
       "      <td>Olympic Hills</td>\n",
       "      <td>47.73357</td>\n",
       "      <td>-122.29651</td>\n",
       "      <td>Entire home/apt</td>\n",
       "      <td>79</td>\n",
       "      <td>1</td>\n",
       "      <td>1</td>\n",
       "      <td>13/06/20</td>\n",
       "      <td>1.00</td>\n",
       "      <td>3</td>\n",
       "      <td>351</td>\n",
       "      <td>Seattle</td>\n",
       "    </tr>\n",
       "    <tr>\n",
       "      <th>212161</th>\n",
       "      <td>43589616</td>\n",
       "      <td>Perfect spot for group events or family stays!</td>\n",
       "      <td>347974040</td>\n",
       "      <td>Marcus</td>\n",
       "      <td>Delridge</td>\n",
       "      <td>Highland Park</td>\n",
       "      <td>47.51284</td>\n",
       "      <td>-122.33587</td>\n",
       "      <td>Entire home/apt</td>\n",
       "      <td>200</td>\n",
       "      <td>1</td>\n",
       "      <td>2</td>\n",
       "      <td>14/06/20</td>\n",
       "      <td>2.00</td>\n",
       "      <td>1</td>\n",
       "      <td>330</td>\n",
       "      <td>Seattle</td>\n",
       "    </tr>\n",
       "    <tr>\n",
       "      <th>212164</th>\n",
       "      <td>43603849</td>\n",
       "      <td>Rooftop Tent in the Heart of Seattle</td>\n",
       "      <td>51816582</td>\n",
       "      <td>Fei</td>\n",
       "      <td>Queen Anne</td>\n",
       "      <td>East Queen Anne</td>\n",
       "      <td>47.63913</td>\n",
       "      <td>-122.34293</td>\n",
       "      <td>Private room</td>\n",
       "      <td>35</td>\n",
       "      <td>1</td>\n",
       "      <td>2</td>\n",
       "      <td>14/06/20</td>\n",
       "      <td>2.00</td>\n",
       "      <td>2</td>\n",
       "      <td>0</td>\n",
       "      <td>Seattle</td>\n",
       "    </tr>\n",
       "  </tbody>\n",
       "</table>\n",
       "<p>85144 rows × 17 columns</p>\n",
       "</div>"
      ],
      "text/plain": [
       "              id                                               name  \\\n",
       "48150       5065                                           MAUKA BB   \n",
       "48151       5269          Upcountry Hospitality in the 'Auwai Suite   \n",
       "48152       5387                Hale Koa Studio & 1 Bedroom Units!!   \n",
       "48153       5389                                      Keauhou Villa   \n",
       "48154       5390                              STAY AT PRINCE KUHIO!   \n",
       "...          ...                                                ...   \n",
       "212157  43531859              Chic Seattle Apartment near Greenlake   \n",
       "212159  43554835  SL6 - Private¬∑Modern¬∑Quality¬∑Convenient¬∑N ...   \n",
       "212160  43554849  SL4 - Modern,Private,Quality,Convenient,N Seattle   \n",
       "212161  43589616     Perfect spot for group events or family stays!   \n",
       "212164  43603849               Rooftop Tent in the Heart of Seattle   \n",
       "\n",
       "          host_id  host_name  neighbourhood_group    neighbourhood  latitude  \\\n",
       "48150        7257      Wayne               Hawaii          Hamakua  20.04095   \n",
       "48151        7620  Lea & Pat               Hawaii     South Kohala  20.02740   \n",
       "48152        7878     Edward               Hawaii       South Kona  19.43119   \n",
       "48153        7878     Edward               Hawaii       North Kona  19.56413   \n",
       "48154        7887       Todd                Kauai      Koloa-Poipu  21.88305   \n",
       "...           ...        ...                  ...              ...       ...   \n",
       "212157    6601753     Isabel  Other neighborhoods        Roosevelt  47.68457   \n",
       "212159  287025852         Li            Lake City    Olympic Hills  47.73462   \n",
       "212160  287025852         Li            Lake City    Olympic Hills  47.73357   \n",
       "212161  347974040     Marcus             Delridge    Highland Park  47.51284   \n",
       "212164   51816582        Fei           Queen Anne  East Queen Anne  47.63913   \n",
       "\n",
       "        longitude        room_type  price  minimum_nights  number_of_reviews  \\\n",
       "48150  -155.43251  Entire home/apt     85               2                 42   \n",
       "48151  -155.70200  Entire home/apt    124              30                 10   \n",
       "48152  -155.88079  Entire home/apt     85               5                168   \n",
       "48153  -155.96347  Entire home/apt    239               6                 20   \n",
       "48154  -159.47372  Entire home/apt     92               3                143   \n",
       "...           ...              ...    ...             ...                ...   \n",
       "212157 -122.31550  Entire home/apt    100               3                  1   \n",
       "212159 -122.29509     Private room     79               1                  2   \n",
       "212160 -122.29651  Entire home/apt     79               1                  1   \n",
       "212161 -122.33587  Entire home/apt    200               1                  2   \n",
       "212164 -122.34293     Private room     35               1                  2   \n",
       "\n",
       "       last_review  reviews_per_month  calculated_host_listings_count  \\\n",
       "48150     22/03/20               0.45                               2   \n",
       "48151     01/03/20               0.09                               5   \n",
       "48152     18/03/20               1.30                               3   \n",
       "48153     22/03/20               0.24                               3   \n",
       "48154     10/08/20               1.03                               1   \n",
       "...            ...                ...                             ...   \n",
       "212157    06/06/20               1.00                               1   \n",
       "212159    10/06/20               2.00                               3   \n",
       "212160    13/06/20               1.00                               3   \n",
       "212161    14/06/20               2.00                               1   \n",
       "212164    14/06/20               2.00                               2   \n",
       "\n",
       "        availability_365     city  \n",
       "48150                365   Hawaii  \n",
       "48151                261   Hawaii  \n",
       "48152                242   Hawaii  \n",
       "48153                287   Hawaii  \n",
       "48154                116   Hawaii  \n",
       "...                  ...      ...  \n",
       "212157                99  Seattle  \n",
       "212159               337  Seattle  \n",
       "212160               351  Seattle  \n",
       "212161               330  Seattle  \n",
       "212164                 0  Seattle  \n",
       "\n",
       "[85144 rows x 17 columns]"
      ]
     },
     "execution_count": 12,
     "metadata": {},
     "output_type": "execute_result"
    }
   ],
   "source": [
    "df.dropna()"
   ]
  },
  {
   "cell_type": "code",
   "execution_count": 13,
   "id": "52988a2d",
   "metadata": {
    "execution": {
     "iopub.execute_input": "2021-07-12T14:46:58.578281Z",
     "iopub.status.busy": "2021-07-12T14:46:58.577483Z",
     "iopub.status.idle": "2021-07-12T14:46:58.734528Z",
     "shell.execute_reply": "2021-07-12T14:46:58.734036Z"
    },
    "papermill": {
     "duration": 0.205003,
     "end_time": "2021-07-12T14:46:58.734654",
     "exception": false,
     "start_time": "2021-07-12T14:46:58.529651",
     "status": "completed"
    },
    "tags": []
   },
   "outputs": [
    {
     "data": {
      "text/plain": [
       "213110"
      ]
     },
     "execution_count": 13,
     "metadata": {},
     "output_type": "execute_result"
    }
   ],
   "source": [
    "df.isna().sum().sum()"
   ]
  },
  {
   "cell_type": "code",
   "execution_count": 14,
   "id": "9e4ee492",
   "metadata": {
    "execution": {
     "iopub.execute_input": "2021-07-12T14:46:58.811947Z",
     "iopub.status.busy": "2021-07-12T14:46:58.810996Z",
     "iopub.status.idle": "2021-07-12T14:46:58.962584Z",
     "shell.execute_reply": "2021-07-12T14:46:58.962119Z"
    },
    "papermill": {
     "duration": 0.189897,
     "end_time": "2021-07-12T14:46:58.962713",
     "exception": false,
     "start_time": "2021-07-12T14:46:58.772816",
     "status": "completed"
    },
    "tags": []
   },
   "outputs": [
    {
     "data": {
      "text/plain": [
       "id                                     0\n",
       "name                                  28\n",
       "host_id                                0\n",
       "host_name                             33\n",
       "neighbourhood_group               115845\n",
       "neighbourhood                          0\n",
       "latitude                               0\n",
       "longitude                              0\n",
       "room_type                              0\n",
       "price                                  0\n",
       "minimum_nights                         0\n",
       "number_of_reviews                      0\n",
       "last_review                        48602\n",
       "reviews_per_month                  48602\n",
       "calculated_host_listings_count         0\n",
       "availability_365                       0\n",
       "city                                   0\n",
       "dtype: int64"
      ]
     },
     "execution_count": 14,
     "metadata": {},
     "output_type": "execute_result"
    }
   ],
   "source": [
    "df.isna().sum()"
   ]
  },
  {
   "cell_type": "code",
   "execution_count": 15,
   "id": "8a6226ed",
   "metadata": {
    "execution": {
     "iopub.execute_input": "2021-07-12T14:46:59.043002Z",
     "iopub.status.busy": "2021-07-12T14:46:59.042364Z",
     "iopub.status.idle": "2021-07-12T14:46:59.257792Z",
     "shell.execute_reply": "2021-07-12T14:46:59.258271Z"
    },
    "papermill": {
     "duration": 0.259174,
     "end_time": "2021-07-12T14:46:59.258435",
     "exception": false,
     "start_time": "2021-07-12T14:46:58.999261",
     "status": "completed"
    },
    "tags": []
   },
   "outputs": [],
   "source": [
    "df=df.replace(np.nan,0)"
   ]
  },
  {
   "cell_type": "code",
   "execution_count": 16,
   "id": "bd4523d7",
   "metadata": {
    "execution": {
     "iopub.execute_input": "2021-07-12T14:46:59.335402Z",
     "iopub.status.busy": "2021-07-12T14:46:59.334483Z",
     "iopub.status.idle": "2021-07-12T14:46:59.500023Z",
     "shell.execute_reply": "2021-07-12T14:46:59.499409Z"
    },
    "papermill": {
     "duration": 0.205512,
     "end_time": "2021-07-12T14:46:59.500151",
     "exception": false,
     "start_time": "2021-07-12T14:46:59.294639",
     "status": "completed"
    },
    "tags": []
   },
   "outputs": [
    {
     "name": "stdout",
     "output_type": "stream",
     "text": [
      "<class 'pandas.core.frame.DataFrame'>\n",
      "RangeIndex: 226030 entries, 0 to 226029\n",
      "Data columns (total 17 columns):\n",
      " #   Column                          Non-Null Count   Dtype  \n",
      "---  ------                          --------------   -----  \n",
      " 0   id                              226030 non-null  int64  \n",
      " 1   name                            226030 non-null  object \n",
      " 2   host_id                         226030 non-null  int64  \n",
      " 3   host_name                       226030 non-null  object \n",
      " 4   neighbourhood_group             226030 non-null  object \n",
      " 5   neighbourhood                   226030 non-null  object \n",
      " 6   latitude                        226030 non-null  float64\n",
      " 7   longitude                       226030 non-null  float64\n",
      " 8   room_type                       226030 non-null  object \n",
      " 9   price                           226030 non-null  int64  \n",
      " 10  minimum_nights                  226030 non-null  int64  \n",
      " 11  number_of_reviews               226030 non-null  int64  \n",
      " 12  last_review                     226030 non-null  object \n",
      " 13  reviews_per_month               226030 non-null  float64\n",
      " 14  calculated_host_listings_count  226030 non-null  int64  \n",
      " 15  availability_365                226030 non-null  int64  \n",
      " 16  city                            226030 non-null  object \n",
      "dtypes: float64(3), int64(7), object(7)\n",
      "memory usage: 29.3+ MB\n"
     ]
    }
   ],
   "source": [
    "df.info()"
   ]
  },
  {
   "cell_type": "markdown",
   "id": "d85b9075",
   "metadata": {
    "papermill": {
     "duration": 0.035753,
     "end_time": "2021-07-12T14:46:59.571537",
     "exception": false,
     "start_time": "2021-07-12T14:46:59.535784",
     "status": "completed"
    },
    "tags": []
   },
   "source": [
    "# exploratory data analysis"
   ]
  },
  {
   "cell_type": "code",
   "execution_count": 17,
   "id": "a4cd592c",
   "metadata": {
    "execution": {
     "iopub.execute_input": "2021-07-12T14:46:59.649727Z",
     "iopub.status.busy": "2021-07-12T14:46:59.648939Z",
     "iopub.status.idle": "2021-07-12T14:46:59.677746Z",
     "shell.execute_reply": "2021-07-12T14:46:59.678177Z"
    },
    "papermill": {
     "duration": 0.070567,
     "end_time": "2021-07-12T14:46:59.678332",
     "exception": false,
     "start_time": "2021-07-12T14:46:59.607765",
     "status": "completed"
    },
    "tags": []
   },
   "outputs": [
    {
     "data": {
      "text/html": [
       "<div>\n",
       "<style scoped>\n",
       "    .dataframe tbody tr th:only-of-type {\n",
       "        vertical-align: middle;\n",
       "    }\n",
       "\n",
       "    .dataframe tbody tr th {\n",
       "        vertical-align: top;\n",
       "    }\n",
       "\n",
       "    .dataframe thead th {\n",
       "        text-align: right;\n",
       "    }\n",
       "</style>\n",
       "<table border=\"1\" class=\"dataframe\">\n",
       "  <thead>\n",
       "    <tr style=\"text-align: right;\">\n",
       "      <th></th>\n",
       "      <th>price</th>\n",
       "    </tr>\n",
       "    <tr>\n",
       "      <th>city</th>\n",
       "      <th></th>\n",
       "    </tr>\n",
       "  </thead>\n",
       "  <tbody>\n",
       "    <tr>\n",
       "      <th>Asheville</th>\n",
       "      <td>196.639344</td>\n",
       "    </tr>\n",
       "    <tr>\n",
       "      <th>Austin</th>\n",
       "      <td>269.290054</td>\n",
       "    </tr>\n",
       "    <tr>\n",
       "      <th>Boston</th>\n",
       "      <td>170.331836</td>\n",
       "    </tr>\n",
       "    <tr>\n",
       "      <th>Broward County</th>\n",
       "      <td>230.093295</td>\n",
       "    </tr>\n",
       "    <tr>\n",
       "      <th>Cambridge</th>\n",
       "      <td>163.072886</td>\n",
       "    </tr>\n",
       "    <tr>\n",
       "      <th>Chicago</th>\n",
       "      <td>153.020009</td>\n",
       "    </tr>\n",
       "    <tr>\n",
       "      <th>Clark County</th>\n",
       "      <td>213.756660</td>\n",
       "    </tr>\n",
       "    <tr>\n",
       "      <th>Columbus</th>\n",
       "      <td>321.718950</td>\n",
       "    </tr>\n",
       "    <tr>\n",
       "      <th>Denver</th>\n",
       "      <td>158.860714</td>\n",
       "    </tr>\n",
       "    <tr>\n",
       "      <th>Hawaii</th>\n",
       "      <td>309.085986</td>\n",
       "    </tr>\n",
       "    <tr>\n",
       "      <th>Jersey City</th>\n",
       "      <td>137.039791</td>\n",
       "    </tr>\n",
       "    <tr>\n",
       "      <th>Los Angeles</th>\n",
       "      <td>222.682046</td>\n",
       "    </tr>\n",
       "    <tr>\n",
       "      <th>Nashville</th>\n",
       "      <td>215.914155</td>\n",
       "    </tr>\n",
       "    <tr>\n",
       "      <th>New Orleans</th>\n",
       "      <td>174.975343</td>\n",
       "    </tr>\n",
       "    <tr>\n",
       "      <th>New York City</th>\n",
       "      <td>149.557413</td>\n",
       "    </tr>\n",
       "    <tr>\n",
       "      <th>Oakland</th>\n",
       "      <td>139.956617</td>\n",
       "    </tr>\n",
       "    <tr>\n",
       "      <th>Pacific Grove</th>\n",
       "      <td>251.111732</td>\n",
       "    </tr>\n",
       "    <tr>\n",
       "      <th>Portland</th>\n",
       "      <td>141.029666</td>\n",
       "    </tr>\n",
       "    <tr>\n",
       "      <th>Rhode Island</th>\n",
       "      <td>288.720906</td>\n",
       "    </tr>\n",
       "    <tr>\n",
       "      <th>Salem</th>\n",
       "      <td>247.727723</td>\n",
       "    </tr>\n",
       "    <tr>\n",
       "      <th>San Clara Country</th>\n",
       "      <td>161.721760</td>\n",
       "    </tr>\n",
       "    <tr>\n",
       "      <th>San Diego</th>\n",
       "      <td>318.820864</td>\n",
       "    </tr>\n",
       "    <tr>\n",
       "      <th>San Francisco</th>\n",
       "      <td>252.018857</td>\n",
       "    </tr>\n",
       "    <tr>\n",
       "      <th>San Mateo County</th>\n",
       "      <td>183.909282</td>\n",
       "    </tr>\n",
       "    <tr>\n",
       "      <th>Santa Cruz County</th>\n",
       "      <td>257.101209</td>\n",
       "    </tr>\n",
       "    <tr>\n",
       "      <th>Seattle</th>\n",
       "      <td>159.720152</td>\n",
       "    </tr>\n",
       "    <tr>\n",
       "      <th>Twin Cities MSA</th>\n",
       "      <td>509.906028</td>\n",
       "    </tr>\n",
       "    <tr>\n",
       "      <th>Washington D.C.</th>\n",
       "      <td>176.840816</td>\n",
       "    </tr>\n",
       "  </tbody>\n",
       "</table>\n",
       "</div>"
      ],
      "text/plain": [
       "                        price\n",
       "city                         \n",
       "Asheville          196.639344\n",
       "Austin             269.290054\n",
       "Boston             170.331836\n",
       "Broward County     230.093295\n",
       "Cambridge          163.072886\n",
       "Chicago            153.020009\n",
       "Clark County       213.756660\n",
       "Columbus           321.718950\n",
       "Denver             158.860714\n",
       "Hawaii             309.085986\n",
       "Jersey City        137.039791\n",
       "Los Angeles        222.682046\n",
       "Nashville          215.914155\n",
       "New Orleans        174.975343\n",
       "New York City      149.557413\n",
       "Oakland            139.956617\n",
       "Pacific Grove      251.111732\n",
       "Portland           141.029666\n",
       "Rhode Island       288.720906\n",
       "Salem              247.727723\n",
       "San Clara Country  161.721760\n",
       "San Diego          318.820864\n",
       "San Francisco      252.018857\n",
       "San Mateo County   183.909282\n",
       "Santa Cruz County  257.101209\n",
       "Seattle            159.720152\n",
       "Twin Cities MSA    509.906028\n",
       "Washington D.C.    176.840816"
      ]
     },
     "execution_count": 17,
     "metadata": {},
     "output_type": "execute_result"
    }
   ],
   "source": [
    "mean_price = df.groupby('city').agg({'price': 'mean'})\n",
    "mean_price"
   ]
  },
  {
   "cell_type": "code",
   "execution_count": 18,
   "id": "a03807f0",
   "metadata": {
    "execution": {
     "iopub.execute_input": "2021-07-12T14:46:59.789179Z",
     "iopub.status.busy": "2021-07-12T14:46:59.775516Z",
     "iopub.status.idle": "2021-07-12T14:47:00.533135Z",
     "shell.execute_reply": "2021-07-12T14:47:00.532301Z"
    },
    "papermill": {
     "duration": 0.81843,
     "end_time": "2021-07-12T14:47:00.533263",
     "exception": false,
     "start_time": "2021-07-12T14:46:59.714833",
     "status": "completed"
    },
    "tags": []
   },
   "outputs": [
    {
     "data": {
      "text/plain": [
       "(array([ 0,  1,  2,  3,  4,  5,  6,  7,  8,  9, 10, 11, 12, 13, 14, 15, 16,\n",
       "        17, 18, 19, 20, 21, 22, 23, 24, 25, 26, 27, 28, 29, 30, 31, 32, 33,\n",
       "        34]),\n",
       " [Text(0, 0, '0'),\n",
       "  Text(1, 0, 'Hawaii'),\n",
       "  Text(2, 0, 'Kauai'),\n",
       "  Text(3, 0, 'Maui'),\n",
       "  Text(4, 0, 'Honolulu'),\n",
       "  Text(5, 0, 'Other Cities'),\n",
       "  Text(6, 0, 'City of Los Angeles'),\n",
       "  Text(7, 0, 'Unincorporated Areas'),\n",
       "  Text(8, 0, 'Manhattan'),\n",
       "  Text(9, 0, 'Brooklyn'),\n",
       "  Text(10, 0, 'Queens'),\n",
       "  Text(11, 0, 'Staten Island'),\n",
       "  Text(12, 0, 'Bronx'),\n",
       "  Text(13, 0, 'Providence'),\n",
       "  Text(14, 0, 'Washington'),\n",
       "  Text(15, 0, 'Newport'),\n",
       "  Text(16, 0, 'Bristol'),\n",
       "  Text(17, 0, 'Kent'),\n",
       "  Text(18, 0, 'Central Area'),\n",
       "  Text(19, 0, 'Other neighborhoods'),\n",
       "  Text(20, 0, 'West Seattle'),\n",
       "  Text(21, 0, 'Downtown'),\n",
       "  Text(22, 0, 'Ballard'),\n",
       "  Text(23, 0, 'Capitol Hill'),\n",
       "  Text(24, 0, 'Beacon Hill'),\n",
       "  Text(25, 0, 'Seward Park'),\n",
       "  Text(26, 0, 'Queen Anne'),\n",
       "  Text(27, 0, 'Rainier Valley'),\n",
       "  Text(28, 0, 'Lake City'),\n",
       "  Text(29, 0, 'Cascade'),\n",
       "  Text(30, 0, 'Delridge'),\n",
       "  Text(31, 0, 'University District'),\n",
       "  Text(32, 0, 'Northgate'),\n",
       "  Text(33, 0, 'Magnolia'),\n",
       "  Text(34, 0, 'Interbay')])"
      ]
     },
     "execution_count": 18,
     "metadata": {},
     "output_type": "execute_result"
    },
    {
     "data": {
      "image/png": "[encoded data removed]",
      "text/plain": [
       "<Figure size 432x288 with 1 Axes>"
      ]
     },
     "metadata": {
      "needs_background": "light"
     },
     "output_type": "display_data"
    }
   ],
   "source": [
    "sns.countplot(\"neighbourhood_group\",data=df)\n",
    "plt.xticks(rotation=90)"
   ]
  },
  {
   "cell_type": "code",
   "execution_count": 19,
   "id": "a27a7fb7",
   "metadata": {
    "execution": {
     "iopub.execute_input": "2021-07-12T14:47:00.666131Z",
     "iopub.status.busy": "2021-07-12T14:47:00.665528Z",
     "iopub.status.idle": "2021-07-12T14:47:00.694890Z",
     "shell.execute_reply": "2021-07-12T14:47:00.694273Z"
    },
    "papermill": {
     "duration": 0.12314,
     "end_time": "2021-07-12T14:47:00.695053",
     "exception": false,
     "start_time": "2021-07-12T14:47:00.571913",
     "status": "completed"
    },
    "tags": []
   },
   "outputs": [
    {
     "data": {
      "text/plain": [
       "count                   226030\n",
       "unique                    1450\n",
       "top       Unincorporated Areas\n",
       "freq                      8020\n",
       "Name: neighbourhood, dtype: object"
      ]
     },
     "execution_count": 19,
     "metadata": {},
     "output_type": "execute_result"
    }
   ],
   "source": [
    "df['neighbourhood'].describe()"
   ]
  },
  {
   "cell_type": "code",
   "execution_count": 20,
   "id": "d4f8a683",
   "metadata": {
    "execution": {
     "iopub.execute_input": "2021-07-12T14:47:00.777667Z",
     "iopub.status.busy": "2021-07-12T14:47:00.777115Z",
     "iopub.status.idle": "2021-07-12T14:47:00.991312Z",
     "shell.execute_reply": "2021-07-12T14:47:00.991759Z"
    },
    "papermill": {
     "duration": 0.257318,
     "end_time": "2021-07-12T14:47:00.991933",
     "exception": false,
     "start_time": "2021-07-12T14:47:00.734615",
     "status": "completed"
    },
    "tags": []
   },
   "outputs": [
    {
     "data": {
      "text/plain": [
       "-0.11784049652658017"
      ]
     },
     "execution_count": 20,
     "metadata": {},
     "output_type": "execute_result"
    }
   ],
   "source": [
    "df['last_review'] = pd.to_datetime(df['last_review'])\n",
    "df['last_review'] = pd.to_numeric(df['last_review'])\n",
    "df['price'].corr(df['last_review']) "
   ]
  },
  {
   "cell_type": "code",
   "execution_count": 21,
   "id": "21da99cf",
   "metadata": {
    "execution": {
     "iopub.execute_input": "2021-07-12T14:47:01.075251Z",
     "iopub.status.busy": "2021-07-12T14:47:01.074652Z",
     "iopub.status.idle": "2021-07-12T14:47:01.137405Z",
     "shell.execute_reply": "2021-07-12T14:47:01.136880Z"
    },
    "papermill": {
     "duration": 0.105281,
     "end_time": "2021-07-12T14:47:01.137530",
     "exception": false,
     "start_time": "2021-07-12T14:47:01.032249",
     "status": "completed"
    },
    "tags": []
   },
   "outputs": [],
   "source": [
    "df = df.drop(['id','name','host_id','host_name','latitude','longitude','last_review'],axis=1)"
   ]
  },
  {
   "cell_type": "code",
   "execution_count": 22,
   "id": "b6ffc2cd",
   "metadata": {
    "execution": {
     "iopub.execute_input": "2021-07-12T14:47:01.223604Z",
     "iopub.status.busy": "2021-07-12T14:47:01.222866Z",
     "iopub.status.idle": "2021-07-12T14:47:01.226822Z",
     "shell.execute_reply": "2021-07-12T14:47:01.226353Z"
    },
    "papermill": {
     "duration": 0.049691,
     "end_time": "2021-07-12T14:47:01.226996",
     "exception": false,
     "start_time": "2021-07-12T14:47:01.177305",
     "status": "completed"
    },
    "tags": []
   },
   "outputs": [
    {
     "data": {
      "text/plain": [
       "(226030, 10)"
      ]
     },
     "execution_count": 22,
     "metadata": {},
     "output_type": "execute_result"
    }
   ],
   "source": [
    "df.shape"
   ]
  },
  {
   "cell_type": "markdown",
   "id": "aa0af114",
   "metadata": {
    "papermill": {
     "duration": 0.040789,
     "end_time": "2021-07-12T14:47:01.307943",
     "exception": false,
     "start_time": "2021-07-12T14:47:01.267154",
     "status": "completed"
    },
    "tags": []
   },
   "source": [
    "# encoding labels into numeric values"
   ]
  },
  {
   "cell_type": "code",
   "execution_count": 23,
   "id": "b2477884",
   "metadata": {
    "execution": {
     "iopub.execute_input": "2021-07-12T14:47:01.393183Z",
     "iopub.status.busy": "2021-07-12T14:47:01.392493Z",
     "iopub.status.idle": "2021-07-12T14:47:01.512962Z",
     "shell.execute_reply": "2021-07-12T14:47:01.513460Z"
    },
    "papermill": {
     "duration": 0.165131,
     "end_time": "2021-07-12T14:47:01.513614",
     "exception": false,
     "start_time": "2021-07-12T14:47:01.348483",
     "status": "completed"
    },
    "tags": []
   },
   "outputs": [],
   "source": [
    "from sklearn.preprocessing import LabelEncoder\n",
    "\n",
    "le = LabelEncoder()"
   ]
  },
  {
   "cell_type": "code",
   "execution_count": 24,
   "id": "1c6f3b5d",
   "metadata": {
    "execution": {
     "iopub.execute_input": "2021-07-12T14:47:01.598143Z",
     "iopub.status.busy": "2021-07-12T14:47:01.597285Z",
     "iopub.status.idle": "2021-07-12T14:47:01.642013Z",
     "shell.execute_reply": "2021-07-12T14:47:01.641416Z"
    },
    "papermill": {
     "duration": 0.087713,
     "end_time": "2021-07-12T14:47:01.642154",
     "exception": false,
     "start_time": "2021-07-12T14:47:01.554441",
     "status": "completed"
    },
    "tags": []
   },
   "outputs": [
    {
     "data": {
      "text/html": [
       "<div>\n",
       "<style scoped>\n",
       "    .dataframe tbody tr th:only-of-type {\n",
       "        vertical-align: middle;\n",
       "    }\n",
       "\n",
       "    .dataframe tbody tr th {\n",
       "        vertical-align: top;\n",
       "    }\n",
       "\n",
       "    .dataframe thead th {\n",
       "        text-align: right;\n",
       "    }\n",
       "</style>\n",
       "<table border=\"1\" class=\"dataframe\">\n",
       "  <thead>\n",
       "    <tr style=\"text-align: right;\">\n",
       "      <th></th>\n",
       "      <th>Neighbourhood_group</th>\n",
       "      <th>labelled</th>\n",
       "    </tr>\n",
       "  </thead>\n",
       "  <tbody>\n",
       "    <tr>\n",
       "      <th>0</th>\n",
       "      <td>null</td>\n",
       "      <td>34</td>\n",
       "    </tr>\n",
       "    <tr>\n",
       "      <th>1</th>\n",
       "      <td>Hawaii</td>\n",
       "      <td>11</td>\n",
       "    </tr>\n",
       "    <tr>\n",
       "      <th>2</th>\n",
       "      <td>Kauai</td>\n",
       "      <td>14</td>\n",
       "    </tr>\n",
       "    <tr>\n",
       "      <th>3</th>\n",
       "      <td>Maui</td>\n",
       "      <td>19</td>\n",
       "    </tr>\n",
       "    <tr>\n",
       "      <th>4</th>\n",
       "      <td>Honolulu</td>\n",
       "      <td>12</td>\n",
       "    </tr>\n",
       "    <tr>\n",
       "      <th>5</th>\n",
       "      <td>Other Cities</td>\n",
       "      <td>22</td>\n",
       "    </tr>\n",
       "    <tr>\n",
       "      <th>6</th>\n",
       "      <td>City of Los Angeles</td>\n",
       "      <td>8</td>\n",
       "    </tr>\n",
       "    <tr>\n",
       "      <th>7</th>\n",
       "      <td>Unincorporated Areas</td>\n",
       "      <td>30</td>\n",
       "    </tr>\n",
       "    <tr>\n",
       "      <th>8</th>\n",
       "      <td>Manhattan</td>\n",
       "      <td>18</td>\n",
       "    </tr>\n",
       "    <tr>\n",
       "      <th>9</th>\n",
       "      <td>Brooklyn</td>\n",
       "      <td>4</td>\n",
       "    </tr>\n",
       "    <tr>\n",
       "      <th>10</th>\n",
       "      <td>Queens</td>\n",
       "      <td>26</td>\n",
       "    </tr>\n",
       "    <tr>\n",
       "      <th>11</th>\n",
       "      <td>Staten Island</td>\n",
       "      <td>29</td>\n",
       "    </tr>\n",
       "    <tr>\n",
       "      <th>12</th>\n",
       "      <td>Bronx</td>\n",
       "      <td>3</td>\n",
       "    </tr>\n",
       "    <tr>\n",
       "      <th>13</th>\n",
       "      <td>Providence</td>\n",
       "      <td>24</td>\n",
       "    </tr>\n",
       "    <tr>\n",
       "      <th>14</th>\n",
       "      <td>Washington</td>\n",
       "      <td>32</td>\n",
       "    </tr>\n",
       "    <tr>\n",
       "      <th>15</th>\n",
       "      <td>Newport</td>\n",
       "      <td>20</td>\n",
       "    </tr>\n",
       "    <tr>\n",
       "      <th>16</th>\n",
       "      <td>Bristol</td>\n",
       "      <td>2</td>\n",
       "    </tr>\n",
       "    <tr>\n",
       "      <th>17</th>\n",
       "      <td>Kent</td>\n",
       "      <td>15</td>\n",
       "    </tr>\n",
       "    <tr>\n",
       "      <th>18</th>\n",
       "      <td>Central Area</td>\n",
       "      <td>7</td>\n",
       "    </tr>\n",
       "    <tr>\n",
       "      <th>19</th>\n",
       "      <td>Other neighborhoods</td>\n",
       "      <td>23</td>\n",
       "    </tr>\n",
       "    <tr>\n",
       "      <th>20</th>\n",
       "      <td>West Seattle</td>\n",
       "      <td>33</td>\n",
       "    </tr>\n",
       "    <tr>\n",
       "      <th>21</th>\n",
       "      <td>Downtown</td>\n",
       "      <td>10</td>\n",
       "    </tr>\n",
       "    <tr>\n",
       "      <th>22</th>\n",
       "      <td>Ballard</td>\n",
       "      <td>0</td>\n",
       "    </tr>\n",
       "    <tr>\n",
       "      <th>23</th>\n",
       "      <td>Capitol Hill</td>\n",
       "      <td>5</td>\n",
       "    </tr>\n",
       "    <tr>\n",
       "      <th>24</th>\n",
       "      <td>Beacon Hill</td>\n",
       "      <td>1</td>\n",
       "    </tr>\n",
       "    <tr>\n",
       "      <th>25</th>\n",
       "      <td>Seward Park</td>\n",
       "      <td>28</td>\n",
       "    </tr>\n",
       "    <tr>\n",
       "      <th>26</th>\n",
       "      <td>Queen Anne</td>\n",
       "      <td>25</td>\n",
       "    </tr>\n",
       "    <tr>\n",
       "      <th>27</th>\n",
       "      <td>Rainier Valley</td>\n",
       "      <td>27</td>\n",
       "    </tr>\n",
       "    <tr>\n",
       "      <th>28</th>\n",
       "      <td>Lake City</td>\n",
       "      <td>16</td>\n",
       "    </tr>\n",
       "    <tr>\n",
       "      <th>29</th>\n",
       "      <td>Cascade</td>\n",
       "      <td>6</td>\n",
       "    </tr>\n",
       "    <tr>\n",
       "      <th>30</th>\n",
       "      <td>Delridge</td>\n",
       "      <td>9</td>\n",
       "    </tr>\n",
       "    <tr>\n",
       "      <th>31</th>\n",
       "      <td>University District</td>\n",
       "      <td>31</td>\n",
       "    </tr>\n",
       "    <tr>\n",
       "      <th>32</th>\n",
       "      <td>Northgate</td>\n",
       "      <td>21</td>\n",
       "    </tr>\n",
       "    <tr>\n",
       "      <th>33</th>\n",
       "      <td>Magnolia</td>\n",
       "      <td>17</td>\n",
       "    </tr>\n",
       "    <tr>\n",
       "      <th>34</th>\n",
       "      <td>Interbay</td>\n",
       "      <td>13</td>\n",
       "    </tr>\n",
       "  </tbody>\n",
       "</table>\n",
       "</div>"
      ],
      "text/plain": [
       "     Neighbourhood_group  labelled\n",
       "0                   null        34\n",
       "1                 Hawaii        11\n",
       "2                  Kauai        14\n",
       "3                   Maui        19\n",
       "4               Honolulu        12\n",
       "5           Other Cities        22\n",
       "6    City of Los Angeles         8\n",
       "7   Unincorporated Areas        30\n",
       "8              Manhattan        18\n",
       "9               Brooklyn         4\n",
       "10                Queens        26\n",
       "11         Staten Island        29\n",
       "12                 Bronx         3\n",
       "13            Providence        24\n",
       "14            Washington        32\n",
       "15               Newport        20\n",
       "16               Bristol         2\n",
       "17                  Kent        15\n",
       "18          Central Area         7\n",
       "19   Other neighborhoods        23\n",
       "20          West Seattle        33\n",
       "21              Downtown        10\n",
       "22               Ballard         0\n",
       "23          Capitol Hill         5\n",
       "24           Beacon Hill         1\n",
       "25           Seward Park        28\n",
       "26            Queen Anne        25\n",
       "27        Rainier Valley        27\n",
       "28             Lake City        16\n",
       "29               Cascade         6\n",
       "30              Delridge         9\n",
       "31   University District        31\n",
       "32             Northgate        21\n",
       "33              Magnolia        17\n",
       "34              Interbay        13"
      ]
     },
     "execution_count": 24,
     "metadata": {},
     "output_type": "execute_result"
    }
   ],
   "source": [
    "df['neighbourhood_group'] = df['neighbourhood_group'].replace(0,'null')\n",
    "neighbourhood_group = pd.DataFrame({'Neighbourhood_group':df['neighbourhood_group'].unique()})\n",
    "labelled = le.fit_transform(neighbourhood_group['Neighbourhood_group'])\n",
    "neighbourhood_group['labelled'] = labelled\n",
    "neighbourhood_group"
   ]
  },
  {
   "cell_type": "code",
   "execution_count": 25,
   "id": "c125c0f1",
   "metadata": {
    "execution": {
     "iopub.execute_input": "2021-07-12T14:47:01.802574Z",
     "iopub.status.busy": "2021-07-12T14:47:01.801912Z",
     "iopub.status.idle": "2021-07-12T14:47:02.031895Z",
     "shell.execute_reply": "2021-07-12T14:47:02.031305Z"
    },
    "papermill": {
     "duration": 0.346658,
     "end_time": "2021-07-12T14:47:02.032025",
     "exception": false,
     "start_time": "2021-07-12T14:47:01.685367",
     "status": "completed"
    },
    "tags": []
   },
   "outputs": [],
   "source": [
    "df[\"neighbourhood_group\"]=le.fit_transform(df[\"neighbourhood_group\"])\n",
    "df[\"neighbourhood\"]=le.fit_transform(df[\"neighbourhood\"])\n",
    "df[\"room_type\"]=le.fit_transform(df[\"room_type\"])\n",
    "df[\"city\"]=le.fit_transform(df[\"city\"])"
   ]
  },
  {
   "cell_type": "code",
   "execution_count": 26,
   "id": "ca458427",
   "metadata": {
    "execution": {
     "iopub.execute_input": "2021-07-12T14:47:02.124230Z",
     "iopub.status.busy": "2021-07-12T14:47:02.123554Z",
     "iopub.status.idle": "2021-07-12T14:47:02.139424Z",
     "shell.execute_reply": "2021-07-12T14:47:02.138952Z"
    },
    "papermill": {
     "duration": 0.063759,
     "end_time": "2021-07-12T14:47:02.139561",
     "exception": false,
     "start_time": "2021-07-12T14:47:02.075802",
     "status": "completed"
    },
    "tags": []
   },
   "outputs": [
    {
     "name": "stdout",
     "output_type": "stream",
     "text": [
      "<class 'pandas.core.frame.DataFrame'>\n",
      "RangeIndex: 226030 entries, 0 to 226029\n",
      "Data columns (total 10 columns):\n",
      " #   Column                          Non-Null Count   Dtype  \n",
      "---  ------                          --------------   -----  \n",
      " 0   neighbourhood_group             226030 non-null  int64  \n",
      " 1   neighbourhood                   226030 non-null  int64  \n",
      " 2   room_type                       226030 non-null  int64  \n",
      " 3   price                           226030 non-null  int64  \n",
      " 4   minimum_nights                  226030 non-null  int64  \n",
      " 5   number_of_reviews               226030 non-null  int64  \n",
      " 6   reviews_per_month               226030 non-null  float64\n",
      " 7   calculated_host_listings_count  226030 non-null  int64  \n",
      " 8   availability_365                226030 non-null  int64  \n",
      " 9   city                            226030 non-null  int64  \n",
      "dtypes: float64(1), int64(9)\n",
      "memory usage: 17.2 MB\n"
     ]
    }
   ],
   "source": [
    "df.info()"
   ]
  },
  {
   "cell_type": "code",
   "execution_count": 27,
   "id": "98b010a4",
   "metadata": {
    "execution": {
     "iopub.execute_input": "2021-07-12T14:47:02.233343Z",
     "iopub.status.busy": "2021-07-12T14:47:02.232673Z",
     "iopub.status.idle": "2021-07-12T14:47:02.238514Z",
     "shell.execute_reply": "2021-07-12T14:47:02.238027Z"
    },
    "papermill": {
     "duration": 0.055003,
     "end_time": "2021-07-12T14:47:02.238641",
     "exception": false,
     "start_time": "2021-07-12T14:47:02.183638",
     "status": "completed"
    },
    "tags": []
   },
   "outputs": [],
   "source": [
    "df['minimum_nights'] = df['minimum_nights'].astype(int)\n",
    "df['reviews_per_month'] = df['reviews_per_month'].astype(int)"
   ]
  },
  {
   "cell_type": "markdown",
   "id": "136cbed0",
   "metadata": {
    "papermill": {
     "duration": 0.0425,
     "end_time": "2021-07-12T14:47:02.325965",
     "exception": false,
     "start_time": "2021-07-12T14:47:02.283465",
     "status": "completed"
    },
    "tags": []
   },
   "source": [
    "# normalizing dataset"
   ]
  },
  {
   "cell_type": "code",
   "execution_count": 28,
   "id": "2f2110eb",
   "metadata": {
    "execution": {
     "iopub.execute_input": "2021-07-12T14:47:02.412212Z",
     "iopub.status.busy": "2021-07-12T14:47:02.411337Z",
     "iopub.status.idle": "2021-07-12T14:47:02.447259Z",
     "shell.execute_reply": "2021-07-12T14:47:02.447679Z"
    },
    "papermill": {
     "duration": 0.080266,
     "end_time": "2021-07-12T14:47:02.447881",
     "exception": false,
     "start_time": "2021-07-12T14:47:02.367615",
     "status": "completed"
    },
    "tags": []
   },
   "outputs": [],
   "source": [
    "def normalise(feature):\n",
    "    nmx = 100\n",
    "    nmn = 0\n",
    "    \n",
    "    mx = feature.max()\n",
    "    mn = feature.min()\n",
    "    \n",
    "    return ((nmx-nmn) / (mx-mn) * (feature-mx) + nmx)\n",
    "\n",
    "df = normalise(df)\n"
   ]
  },
  {
   "cell_type": "markdown",
   "id": "8d52096f",
   "metadata": {
    "papermill": {
     "duration": 0.04249,
     "end_time": "2021-07-12T14:47:02.534012",
     "exception": false,
     "start_time": "2021-07-12T14:47:02.491522",
     "status": "completed"
    },
    "tags": []
   },
   "source": [
    "# split dataset"
   ]
  },
  {
   "cell_type": "markdown",
   "id": "fd1f0b9f",
   "metadata": {
    "papermill": {
     "duration": 0.042586,
     "end_time": "2021-07-12T14:47:02.619350",
     "exception": false,
     "start_time": "2021-07-12T14:47:02.576764",
     "status": "completed"
    },
    "tags": []
   },
   "source": [
    "# train model "
   ]
  },
  {
   "cell_type": "code",
   "execution_count": 29,
   "id": "ee0e16b0",
   "metadata": {
    "execution": {
     "iopub.execute_input": "2021-07-12T14:47:02.708719Z",
     "iopub.status.busy": "2021-07-12T14:47:02.707817Z",
     "iopub.status.idle": "2021-07-12T14:47:02.729799Z",
     "shell.execute_reply": "2021-07-12T14:47:02.730284Z"
    },
    "papermill": {
     "duration": 0.068287,
     "end_time": "2021-07-12T14:47:02.730477",
     "exception": false,
     "start_time": "2021-07-12T14:47:02.662190",
     "status": "completed"
    },
    "tags": []
   },
   "outputs": [],
   "source": [
    "x=df.drop(columns=\"price\",axis=1)\n",
    "y=df[\"price\"]"
   ]
  },
  {
   "cell_type": "code",
   "execution_count": 30,
   "id": "bcc5b4b9",
   "metadata": {
    "execution": {
     "iopub.execute_input": "2021-07-12T14:47:02.821013Z",
     "iopub.status.busy": "2021-07-12T14:47:02.820307Z",
     "iopub.status.idle": "2021-07-12T14:47:02.908224Z",
     "shell.execute_reply": "2021-07-12T14:47:02.908667Z"
    },
    "papermill": {
     "duration": 0.133993,
     "end_time": "2021-07-12T14:47:02.908837",
     "exception": false,
     "start_time": "2021-07-12T14:47:02.774844",
     "status": "completed"
    },
    "tags": []
   },
   "outputs": [],
   "source": [
    "from sklearn.model_selection import train_test_split\n",
    "x_train,x_test,y_train,y_test=train_test_split(x,y,test_size=0.2,random_state=0)"
   ]
  },
  {
   "cell_type": "markdown",
   "id": "14757946",
   "metadata": {
    "papermill": {
     "duration": 0.042971,
     "end_time": "2021-07-12T14:47:02.995165",
     "exception": false,
     "start_time": "2021-07-12T14:47:02.952194",
     "status": "completed"
    },
    "tags": []
   },
   "source": [
    "# linear regression model"
   ]
  },
  {
   "cell_type": "code",
   "execution_count": 31,
   "id": "c64a2be3",
   "metadata": {
    "execution": {
     "iopub.execute_input": "2021-07-12T14:47:03.086775Z",
     "iopub.status.busy": "2021-07-12T14:47:03.086124Z",
     "iopub.status.idle": "2021-07-12T14:47:03.390034Z",
     "shell.execute_reply": "2021-07-12T14:47:03.390768Z"
    },
    "papermill": {
     "duration": 0.352656,
     "end_time": "2021-07-12T14:47:03.391049",
     "exception": false,
     "start_time": "2021-07-12T14:47:03.038393",
     "status": "completed"
    },
    "tags": []
   },
   "outputs": [
    {
     "data": {
      "text/plain": [
       "array([1.25427958, 1.28614297, 1.2431421 , ..., 0.31674724, 1.29985635,\n",
       "       1.46713233])"
      ]
     },
     "execution_count": 31,
     "metadata": {},
     "output_type": "execute_result"
    }
   ],
   "source": [
    "from sklearn.linear_model import LinearRegression\n",
    "model=LinearRegression()\n",
    "model.fit(x_train,y_train)\n",
    "y_pred=model.predict(x_test)\n",
    "y_pred"
   ]
  },
  {
   "cell_type": "code",
   "execution_count": 32,
   "id": "4a9e2488",
   "metadata": {
    "execution": {
     "iopub.execute_input": "2021-07-12T14:47:03.533089Z",
     "iopub.status.busy": "2021-07-12T14:47:03.532210Z",
     "iopub.status.idle": "2021-07-12T14:47:03.541993Z",
     "shell.execute_reply": "2021-07-12T14:47:03.541496Z"
    },
    "papermill": {
     "duration": 0.073585,
     "end_time": "2021-07-12T14:47:03.542138",
     "exception": false,
     "start_time": "2021-07-12T14:47:03.468553",
     "status": "completed"
    },
    "tags": []
   },
   "outputs": [
    {
     "data": {
      "text/html": [
       "<div>\n",
       "<style scoped>\n",
       "    .dataframe tbody tr th:only-of-type {\n",
       "        vertical-align: middle;\n",
       "    }\n",
       "\n",
       "    .dataframe tbody tr th {\n",
       "        vertical-align: top;\n",
       "    }\n",
       "\n",
       "    .dataframe thead th {\n",
       "        text-align: right;\n",
       "    }\n",
       "</style>\n",
       "<table border=\"1\" class=\"dataframe\">\n",
       "  <thead>\n",
       "    <tr style=\"text-align: right;\">\n",
       "      <th></th>\n",
       "      <th>original_Price</th>\n",
       "      <th>predicted_Price</th>\n",
       "    </tr>\n",
       "  </thead>\n",
       "  <tbody>\n",
       "    <tr>\n",
       "      <th>0</th>\n",
       "      <td>1.000040</td>\n",
       "      <td>1.254280</td>\n",
       "    </tr>\n",
       "    <tr>\n",
       "      <th>1</th>\n",
       "      <td>2.520101</td>\n",
       "      <td>1.286143</td>\n",
       "    </tr>\n",
       "    <tr>\n",
       "      <th>2</th>\n",
       "      <td>6.024241</td>\n",
       "      <td>1.243142</td>\n",
       "    </tr>\n",
       "    <tr>\n",
       "      <th>3</th>\n",
       "      <td>1.856074</td>\n",
       "      <td>1.280975</td>\n",
       "    </tr>\n",
       "    <tr>\n",
       "      <th>4</th>\n",
       "      <td>0.616025</td>\n",
       "      <td>1.001634</td>\n",
       "    </tr>\n",
       "    <tr>\n",
       "      <th>5</th>\n",
       "      <td>0.660026</td>\n",
       "      <td>1.218972</td>\n",
       "    </tr>\n",
       "    <tr>\n",
       "      <th>6</th>\n",
       "      <td>0.396016</td>\n",
       "      <td>0.487129</td>\n",
       "    </tr>\n",
       "    <tr>\n",
       "      <th>7</th>\n",
       "      <td>1.000040</td>\n",
       "      <td>1.025714</td>\n",
       "    </tr>\n",
       "    <tr>\n",
       "      <th>8</th>\n",
       "      <td>0.900036</td>\n",
       "      <td>1.345454</td>\n",
       "    </tr>\n",
       "    <tr>\n",
       "      <th>9</th>\n",
       "      <td>0.332013</td>\n",
       "      <td>1.374402</td>\n",
       "    </tr>\n",
       "  </tbody>\n",
       "</table>\n",
       "</div>"
      ],
      "text/plain": [
       "   original_Price  predicted_Price\n",
       "0        1.000040         1.254280\n",
       "1        2.520101         1.286143\n",
       "2        6.024241         1.243142\n",
       "3        1.856074         1.280975\n",
       "4        0.616025         1.001634\n",
       "5        0.660026         1.218972\n",
       "6        0.396016         0.487129\n",
       "7        1.000040         1.025714\n",
       "8        0.900036         1.345454\n",
       "9        0.332013         1.374402"
      ]
     },
     "execution_count": 32,
     "metadata": {},
     "output_type": "execute_result"
    }
   ],
   "source": [
    "predictions = pd.DataFrame({\"original_Price\": y_test.values, \"predicted_Price\": y_pred})\n",
    "predictions.head(10)"
   ]
  },
  {
   "cell_type": "code",
   "execution_count": 33,
   "id": "5316d600",
   "metadata": {
    "execution": {
     "iopub.execute_input": "2021-07-12T14:47:03.665907Z",
     "iopub.status.busy": "2021-07-12T14:47:03.655877Z",
     "iopub.status.idle": "2021-07-12T14:47:06.349009Z",
     "shell.execute_reply": "2021-07-12T14:47:06.348037Z"
    },
    "papermill": {
     "duration": 2.763592,
     "end_time": "2021-07-12T14:47:06.349212",
     "exception": false,
     "start_time": "2021-07-12T14:47:03.585620",
     "status": "completed"
    },
    "tags": []
   },
   "outputs": [
    {
     "data": {
      "text/plain": [
       "<seaborn.axisgrid.FacetGrid at 0x7ff05031d1d0>"
      ]
     },
     "execution_count": 33,
     "metadata": {},
     "output_type": "execute_result"
    },
    {
     "data": {
      "image/png": "[encoded data removed]",
      "text/plain": [
       "<Figure size 360x360 with 1 Axes>"
      ]
     },
     "metadata": {
      "needs_background": "light"
     },
     "output_type": "display_data"
    }
   ],
   "source": [
    "sns.lmplot(x=\"original_Price\",y=\"predicted_Price\",data=predictions)"
   ]
  },
  {
   "cell_type": "code",
   "execution_count": 34,
   "id": "a369522a",
   "metadata": {
    "execution": {
     "iopub.execute_input": "2021-07-12T14:47:06.457908Z",
     "iopub.status.busy": "2021-07-12T14:47:06.456927Z",
     "iopub.status.idle": "2021-07-12T14:47:06.468808Z",
     "shell.execute_reply": "2021-07-12T14:47:06.469523Z"
    },
    "papermill": {
     "duration": 0.06575,
     "end_time": "2021-07-12T14:47:06.469815",
     "exception": false,
     "start_time": "2021-07-12T14:47:06.404065",
     "status": "completed"
    },
    "tags": []
   },
   "outputs": [
    {
     "data": {
      "text/plain": [
       "0.02527555207156118"
      ]
     },
     "execution_count": 34,
     "metadata": {},
     "output_type": "execute_result"
    }
   ],
   "source": [
    "model.score(x_test,y_test)"
   ]
  },
  {
   "cell_type": "code",
   "execution_count": 35,
   "id": "7cbf0599",
   "metadata": {
    "execution": {
     "iopub.execute_input": "2021-07-12T14:47:06.618418Z",
     "iopub.status.busy": "2021-07-12T14:47:06.617660Z",
     "iopub.status.idle": "2021-07-12T14:47:06.621326Z",
     "shell.execute_reply": "2021-07-12T14:47:06.620823Z"
    },
    "papermill": {
     "duration": 0.06857,
     "end_time": "2021-07-12T14:47:06.621465",
     "exception": false,
     "start_time": "2021-07-12T14:47:06.552895",
     "status": "completed"
    },
    "tags": []
   },
   "outputs": [
    {
     "data": {
      "text/plain": [
       "173894    0.254240\n",
       "8690     -1.233958\n",
       "26513    -4.781099\n",
       "158260   -0.575100\n",
       "168330    0.385609\n",
       "            ...   \n",
       "157793    0.194670\n",
       "189655    1.066728\n",
       "77276    -0.143271\n",
       "165152    0.659831\n",
       "209055    0.967112\n",
       "Name: price, Length: 45206, dtype: float64"
      ]
     },
     "execution_count": 35,
     "metadata": {},
     "output_type": "execute_result"
    }
   ],
   "source": [
    "error=y_pred-y_test\n",
    "error"
   ]
  },
  {
   "cell_type": "code",
   "execution_count": 36,
   "id": "3a67a384",
   "metadata": {
    "execution": {
     "iopub.execute_input": "2021-07-12T14:47:06.719756Z",
     "iopub.status.busy": "2021-07-12T14:47:06.718922Z",
     "iopub.status.idle": "2021-07-12T14:47:06.722921Z",
     "shell.execute_reply": "2021-07-12T14:47:06.722334Z"
    },
    "papermill": {
     "duration": 0.055134,
     "end_time": "2021-07-12T14:47:06.723043",
     "exception": false,
     "start_time": "2021-07-12T14:47:06.667909",
     "status": "completed"
    },
    "tags": []
   },
   "outputs": [
    {
     "data": {
      "text/plain": [
       "0.9102454358089549"
      ]
     },
     "execution_count": 36,
     "metadata": {},
     "output_type": "execute_result"
    }
   ],
   "source": [
    "from sklearn import metrics\n",
    "model.intercept_"
   ]
  },
  {
   "cell_type": "markdown",
   "id": "10dd4862",
   "metadata": {
    "papermill": {
     "duration": 0.045839,
     "end_time": "2021-07-12T14:47:06.815995",
     "exception": false,
     "start_time": "2021-07-12T14:47:06.770156",
     "status": "completed"
    },
    "tags": []
   },
   "source": [
    "# Random forest regressor model"
   ]
  },
  {
   "cell_type": "code",
   "execution_count": 37,
   "id": "0db4d341",
   "metadata": {
    "execution": {
     "iopub.execute_input": "2021-07-12T14:47:06.914775Z",
     "iopub.status.busy": "2021-07-12T14:47:06.914116Z",
     "iopub.status.idle": "2021-07-12T14:49:56.650338Z",
     "shell.execute_reply": "2021-07-12T14:49:56.649805Z"
    },
    "papermill": {
     "duration": 169.78825,
     "end_time": "2021-07-12T14:49:56.650488",
     "exception": false,
     "start_time": "2021-07-12T14:47:06.862238",
     "status": "completed"
    },
    "tags": []
   },
   "outputs": [],
   "source": [
    "from sklearn.ensemble import RandomForestRegressor\n",
    "Model=RandomForestRegressor(n_estimators=200)\n",
    "Model.fit(x_train,y_train)\n",
    "y_pred=Model.predict(x_test)\n"
   ]
  },
  {
   "cell_type": "code",
   "execution_count": 38,
   "id": "29febbd4",
   "metadata": {
    "execution": {
     "iopub.execute_input": "2021-07-12T14:49:56.748254Z",
     "iopub.status.busy": "2021-07-12T14:49:56.747570Z",
     "iopub.status.idle": "2021-07-12T14:49:56.750073Z",
     "shell.execute_reply": "2021-07-12T14:49:56.750543Z"
    },
    "papermill": {
     "duration": 0.053626,
     "end_time": "2021-07-12T14:49:56.750728",
     "exception": false,
     "start_time": "2021-07-12T14:49:56.697102",
     "status": "completed"
    },
    "tags": []
   },
   "outputs": [
    {
     "data": {
      "text/plain": [
       "array([1.80584557, 1.54035161, 5.86579463, ..., 0.33401336, 0.82545302,\n",
       "       0.90959638])"
      ]
     },
     "execution_count": 38,
     "metadata": {},
     "output_type": "execute_result"
    }
   ],
   "source": [
    "y_pred"
   ]
  },
  {
   "cell_type": "code",
   "execution_count": 39,
   "id": "f7e6d243",
   "metadata": {
    "execution": {
     "iopub.execute_input": "2021-07-12T14:49:56.843636Z",
     "iopub.status.busy": "2021-07-12T14:49:56.843066Z",
     "iopub.status.idle": "2021-07-12T14:49:56.852683Z",
     "shell.execute_reply": "2021-07-12T14:49:56.853142Z"
    },
    "papermill": {
     "duration": 0.057292,
     "end_time": "2021-07-12T14:49:56.853277",
     "exception": false,
     "start_time": "2021-07-12T14:49:56.795985",
     "status": "completed"
    },
    "tags": []
   },
   "outputs": [
    {
     "data": {
      "text/html": [
       "<div>\n",
       "<style scoped>\n",
       "    .dataframe tbody tr th:only-of-type {\n",
       "        vertical-align: middle;\n",
       "    }\n",
       "\n",
       "    .dataframe tbody tr th {\n",
       "        vertical-align: top;\n",
       "    }\n",
       "\n",
       "    .dataframe thead th {\n",
       "        text-align: right;\n",
       "    }\n",
       "</style>\n",
       "<table border=\"1\" class=\"dataframe\">\n",
       "  <thead>\n",
       "    <tr style=\"text-align: right;\">\n",
       "      <th></th>\n",
       "      <th>original_Price</th>\n",
       "      <th>predicted_Price</th>\n",
       "    </tr>\n",
       "  </thead>\n",
       "  <tbody>\n",
       "    <tr>\n",
       "      <th>0</th>\n",
       "      <td>1.000040</td>\n",
       "      <td>1.805846</td>\n",
       "    </tr>\n",
       "    <tr>\n",
       "      <th>1</th>\n",
       "      <td>2.520101</td>\n",
       "      <td>1.540352</td>\n",
       "    </tr>\n",
       "    <tr>\n",
       "      <th>2</th>\n",
       "      <td>6.024241</td>\n",
       "      <td>5.865795</td>\n",
       "    </tr>\n",
       "    <tr>\n",
       "      <th>3</th>\n",
       "      <td>1.856074</td>\n",
       "      <td>1.226814</td>\n",
       "    </tr>\n",
       "    <tr>\n",
       "      <th>4</th>\n",
       "      <td>0.616025</td>\n",
       "      <td>0.648346</td>\n",
       "    </tr>\n",
       "    <tr>\n",
       "      <th>5</th>\n",
       "      <td>0.660026</td>\n",
       "      <td>1.247890</td>\n",
       "    </tr>\n",
       "    <tr>\n",
       "      <th>6</th>\n",
       "      <td>0.396016</td>\n",
       "      <td>0.439158</td>\n",
       "    </tr>\n",
       "    <tr>\n",
       "      <th>7</th>\n",
       "      <td>1.000040</td>\n",
       "      <td>0.308025</td>\n",
       "    </tr>\n",
       "    <tr>\n",
       "      <th>8</th>\n",
       "      <td>0.900036</td>\n",
       "      <td>1.503620</td>\n",
       "    </tr>\n",
       "    <tr>\n",
       "      <th>9</th>\n",
       "      <td>0.332013</td>\n",
       "      <td>1.822513</td>\n",
       "    </tr>\n",
       "  </tbody>\n",
       "</table>\n",
       "</div>"
      ],
      "text/plain": [
       "   original_Price  predicted_Price\n",
       "0        1.000040         1.805846\n",
       "1        2.520101         1.540352\n",
       "2        6.024241         5.865795\n",
       "3        1.856074         1.226814\n",
       "4        0.616025         0.648346\n",
       "5        0.660026         1.247890\n",
       "6        0.396016         0.439158\n",
       "7        1.000040         0.308025\n",
       "8        0.900036         1.503620\n",
       "9        0.332013         1.822513"
      ]
     },
     "execution_count": 39,
     "metadata": {},
     "output_type": "execute_result"
    }
   ],
   "source": [
    "predictions = pd.DataFrame({\"original_Price\": y_test.values, \"predicted_Price\": y_pred})\n",
    "predictions.head(10)"
   ]
  },
  {
   "cell_type": "code",
   "execution_count": 40,
   "id": "853e24fa",
   "metadata": {
    "execution": {
     "iopub.execute_input": "2021-07-12T14:49:56.947999Z",
     "iopub.status.busy": "2021-07-12T14:49:56.947333Z",
     "iopub.status.idle": "2021-07-12T14:49:57.355675Z",
     "shell.execute_reply": "2021-07-12T14:49:57.355197Z"
    },
    "papermill": {
     "duration": 0.457481,
     "end_time": "2021-07-12T14:49:57.355810",
     "exception": false,
     "start_time": "2021-07-12T14:49:56.898329",
     "status": "completed"
    },
    "tags": []
   },
   "outputs": [
    {
     "data": {
      "text/plain": [
       "<AxesSubplot:xlabel='original_Price', ylabel='predicted_Price'>"
      ]
     },
     "execution_count": 40,
     "metadata": {},
     "output_type": "execute_result"
    },
    {
     "data": {
      "image/png": "[encoded data removed]",
      "text/plain": [
       "<Figure size 432x288 with 1 Axes>"
      ]
     },
     "metadata": {
      "needs_background": "light"
     },
     "output_type": "display_data"
    }
   ],
   "source": [
    "sns.scatterplot(x=\"original_Price\",y=\"predicted_Price\",data=predictions)"
   ]
  }
 ],
 "metadata": {
  "kernelspec": {
   "display_name": "Python 3",
   "language": "python",
   "name": "python3"
  },
  "language_info": {
   "codemirror_mode": {
    "name": "ipython",
    "version": 3
   },
   "file_extension": ".py",
   "mimetype": "text/x-python",
   "name": "python",
   "nbconvert_exporter": "python",
   "pygments_lexer": "ipython3",
   "version": "3.7.10"
  },
  "papermill": {
   "default_parameters": {},
   "duration": 191.802739,
   "end_time": "2021-07-12T14:49:58.213632",
   "environment_variables": {},
   "exception": null,
   "input_path": "__notebook__.ipynb",
   "output_path": "__notebook__.ipynb",
   "parameters": {},
   "start_time": "2021-07-12T14:46:46.410893",
   "version": "2.3.3"
  }
 },
 "nbformat": 4,
 "nbformat_minor": 5
}
